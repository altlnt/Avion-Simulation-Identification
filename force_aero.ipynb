{
 "cells": [
  {
   "cell_type": "code",
   "execution_count": 3,
   "metadata": {},
   "outputs": [],
   "source": [
    "from sympy.solvers import solve\n",
    "from sympy import *\n",
    "import numpy as np\n",
    "\n",
    "init_printing()"
   ]
  },
  {
   "cell_type": "markdown",
   "metadata": {},
   "source": [
    "# Fonctions utiles "
   ]
  },
  {
   "cell_type": "code",
   "execution_count": 4,
   "metadata": {},
   "outputs": [],
   "source": [
    "def convert_MatrixSymbol_to_Array(Matrix, n, m):\n",
    "    Tableau = []\n",
    "    for i in range(n):\n",
    "        Liste = []\n",
    "        for j in range(m):\n",
    "            Liste.append(Matrix[i,j])\n",
    "        Tableau.append(Liste)\n",
    "    return np.array(Tableau)\n",
    "\n",
    "def convert_Array_to_vector(Array):\n",
    "    Vector = []\n",
    "    for i in range(3):\n",
    "        Vector.append(Array[i,0])\n",
    "    return Vector\n",
    "\n",
    "def convert_Vector_to_array(Vector):\n",
    "    Tableau = []\n",
    "    for i in range(3):\n",
    "        Tableau.append([Vector[i]])\n",
    "    return np.array(Tableau)\n"
   ]
  },
  {
   "cell_type": "code",
   "execution_count": 5,
   "metadata": {},
   "outputs": [],
   "source": [
    "sp      = 4             # Nombre de surface portante\n",
    "nb_moteur = 4           # Nombre de rotor\n",
    "nb_tilt = 2             # Nombre de cervomoteur\n",
    "cp_i    = []            # Liste des surfaces portantes\n",
    "vB_i    = []            # Vitesse de chaque surface\n",
    "n_i     = []            # Vecteur associé à une surface portante\n",
    "N_i     = []            # Dénominateur"
   ]
  },
  {
   "cell_type": "markdown",
   "metadata": {},
   "source": [
    "## Init Paramètres"
   ]
  },
  {
   "cell_type": "code",
   "execution_count": 6,
   "metadata": {},
   "outputs": [],
   "source": [
    "A       = MatrixSymbol('A',1,sp)        # Coefficient\n",
    "v       = MatrixSymbol('v',1,sp)        # Vitesse (??)\n",
    "Omega   = MatrixSymbol('Omega',3,1)     # Vecteur de rotation\n",
    "vB      = MatrixSymbol('v_B',3,1)        # Vitesse du corp (drone)\n",
    "alpha   = MatrixSymbol('alpha',1,sp)    # Coeff alpha\n",
    "cl_1_fp = Symbol('cl_1_fp')             # Coeff rechercher\n",
    "cd_0_sa = Symbol('cd_0_sa')             # Coeff rechercher\n",
    "cd_1_sa = Symbol('cd_1_sa}')             # Coeff rechercher\n",
    "alpha_0 = Symbol('alpha_0')             # Coeff rechercher\n",
    "delta_t = Symbol('delta_{tilt}', real=True)  # Tilt des moteurs "
   ]
  },
  {
   "cell_type": "code",
   "execution_count": 7,
   "metadata": {},
   "outputs": [
    {
     "data": {
      "text/plain": [
       "array([[Omega[0, 0]],\n",
       "       [Omega[1, 0]],\n",
       "       [Omega[2, 0]]], dtype=object)"
      ]
     },
     "execution_count": 7,
     "metadata": {},
     "output_type": "execute_result"
    }
   ],
   "source": [
    "Omega   = convert_MatrixSymbol_to_Array(Omega, 3, 1)\n",
    "vB      = convert_MatrixSymbol_to_Array(vB, 3, 1)\n",
    "A       = convert_MatrixSymbol_to_Array(A, 1, sp)\n"
   ]
  },
  {
   "cell_type": "markdown",
   "metadata": {},
   "source": [
    "# Forces Aéro "
   ]
  },
  {
   "cell_type": "code",
   "execution_count": 19,
   "metadata": {},
   "outputs": [],
   "source": [
    "def equation_aero(H1,H2,H3,H4):\n",
    "    Somme_L = np.zeros((3,1))               # Somme des efforts de portance\n",
    "    Somme_D = np.zeros((3,1))               # Somme des efforts de trainée\n",
    "    Somme   = np.zeros((3,1))               # Somme des efforts Aéro\n",
    "    Force_Moteur =np.zeros((nb_moteur,1))   # Poussé des moteurs\n",
    "    Moment  = np.zeros((3,1))               # Somme des Moments\n",
    "    \n",
    "    for i in range(sp):\n",
    "        cp_i.append(convert_MatrixSymbol_to_Array(MatrixSymbol('cp_%s'%i,3,1),3,1))\n",
    "        vB_i.append(convert_MatrixSymbol_to_Array(MatrixSymbol('vB_%s'%i,3,1),3,1))\n",
    "        n_i.append(convert_MatrixSymbol_to_Array(MatrixSymbol('n_%s'%i,3,1),3,1))\n",
    "        N_i.append(Symbol('N_%s'%i))\n",
    "                    \n",
    "        ##### CONDITIONS  PERMETTANTS DE SIMPLIFIER #####\n",
    "        if(H1): cp_i[i][2,0] = 0                        #\n",
    "        if(i==1 and H2): A[0,1] = A[0,0]                #\n",
    "        if(i==1 and H3): cp_i[1][1,0]= -cp_i[0][1,0]    #    \n",
    "        if(i==3 and H4): cp_i[3][0,0]= cp_i[2][0,0]     #\n",
    "        #################################################\n",
    "        \n",
    "        Prod_vec = convert_Vector_to_array(np.cross(convert_Array_to_vector(cp_i[i]),convert_Array_to_vector(Omega)))\n",
    "        NumL = vB - np.cross(np.transpose(n_i[i]),np.cross(np.transpose(cp_i[i]), np.transpose(Omega)))\n",
    "        NumD = vB-Prod_vec-np.dot((vB-Prod_vec).T,n_i[i])*n_i[i]\n",
    "        \n",
    "        Li = A[0,i]*v[0,i]**2*(0.5*cl_1_fp*sin(2*(alpha[0,i]+alpha_0)))*(NumL/N_i[i])\n",
    "        Di = A[0,i]*v[0,i]**2*(cd_0_sa+cd_1_sa*sin(alpha[0,i]+alpha_0)**2)*(NumD/N_i[i])\n",
    "        \n",
    "        Somme_L = Somme_L + Li\n",
    "        Somme_D = Somme_D + Di\n",
    "        Moment  = Moment  + convert_Vector_to_array(np.cross(convert_Array_to_vector(cp_i[i]),convert_Array_to_vector(Li+Di)))\n",
    "        \n",
    "    Somme = -Somme_L-Somme_D\n",
    "    \n",
    "    return Somme,Moment"
   ]
  },
  {
   "cell_type": "markdown",
   "metadata": {},
   "source": [
    "## Poussé des moteurs "
   ]
  },
  {
   "cell_type": "code",
   "execution_count": null,
   "metadata": {},
   "outputs": [],
   "source": [
    "def pousse_moteur(omega, delta_t)"
   ]
  },
  {
   "cell_type": "code",
   "execution_count": null,
   "metadata": {},
   "outputs": [],
   "source": []
  },
  {
   "cell_type": "code",
   "execution_count": 20,
   "metadata": {},
   "outputs": [],
   "source": [
    "# Initialisation des hypothèses\n",
    "H1 = True       # cpi,3 = 0\n",
    "H2 = True       # A1 = A2\n",
    "H3 = True       # cp2,2 = -cp1,2\n",
    "H4 = True       # cp4,1 = cp3,1\n",
    "\n",
    "Somme,Moment = equation_aero(H1,H2,H3,H4)\n",
    "#Somme = simplify(Somme)\n",
    "#Moment= simplify(Moment)\n",
    "#print(Somme[0][0])\n",
    "#print(Moment)\n",
    "\n",
    "# Impression sous forme LaTeX\n",
    "#print(latex(Somme[0][0]))"
   ]
  },
  {
   "cell_type": "code",
   "execution_count": null,
   "metadata": {},
   "outputs": [],
   "source": []
  },
  {
   "cell_type": "code",
   "execution_count": null,
   "metadata": {},
   "outputs": [],
   "source": []
  },
  {
   "cell_type": "code",
   "execution_count": null,
   "metadata": {},
   "outputs": [],
   "source": []
  }
 ],
 "metadata": {
  "kernelspec": {
   "display_name": "Python 3",
   "language": "python",
   "name": "python3"
  },
  "language_info": {
   "codemirror_mode": {
    "name": "ipython",
    "version": 3
   },
   "file_extension": ".py",
   "mimetype": "text/x-python",
   "name": "python",
   "nbconvert_exporter": "python",
   "pygments_lexer": "ipython3",
   "version": "3.8.5"
  }
 },
 "nbformat": 4,
 "nbformat_minor": 4
}
