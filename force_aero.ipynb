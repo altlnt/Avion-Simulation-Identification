{
 "cells": [
  {
   "cell_type": "code",
   "execution_count": 1,
   "metadata": {},
   "outputs": [],
   "source": [
    "from sympy.solvers import solve\n",
    "from sympy.vector import *\n",
    "from sympy import *\n",
    "import numpy as np\n",
    "import transforms3d\n",
    "\n",
    "init_printing()"
   ]
  },
  {
   "cell_type": "markdown",
   "metadata": {},
   "source": [
    "# Definition des vecteurs"
   ]
  },
  {
   "cell_type": "code",
   "execution_count": 2,
   "metadata": {},
   "outputs": [],
   "source": [
    "B_NED     = eye(3)                               # Base dans le repère NED\n",
    "B_B       = eye(3)                               # Base dans le repère body\n",
    "\n",
    "\n",
    "Omega     = MatrixSymbol('Omega',3,1)                  # Vecteur de rotation\n",
    "R         = MatrixSymbol('R', 3, 3)                    # Matrice de rotation\n",
    "v_B        = MatrixSymbol('v_B',3,1)                    # Vitesse du corps (repère drone)\n",
    "v_W        = MatrixSymbol('v_W',3,1)                    # Vitesse du vent (repère NED)\n",
    "\n",
    "delta_rotor     = MatrixSymbol('delta_{rotor}', 3,1 )              # Position du corps dans le repère NED\n",
    "\n",
    "\n",
    "X_NED     = MatrixSymbol('X_{NED}', 3,1 )              # Position du corps dans le repère NED\n",
    "c_p        = MatrixSymbol('c_p', 3,1)                   # Centre de poussé\n",
    "A         = Symbol('A', real=True)                     # 0.5 * rho * S \n",
    "Air_speed_earth  = MatrixSymbol('V_{air_{NED}}', 3, 1) # air speed dans le repère NED\n",
    "Air_speed_body   = MatrixSymbol('V_{air_{body}}', 3, 1)# air speed dans le repère body\n",
    "\n",
    "omega,ct=symbols('omega,C_t',real=True)                # vitesse de rotation des moteurs, et coefficient de poussé des helices\n",
    "c_d,c_l=symbols('C_d,C_l',real=True)                # vitesse de rotation des moteurs, et coefficient de poussé des helices\n",
    "\n",
    "nb_rotor = 4"
   ]
  },
  {
   "cell_type": "code",
   "execution_count": null,
   "metadata": {},
   "outputs": [],
   "source": []
  },
  {
   "cell_type": "code",
   "execution_count": null,
   "metadata": {},
   "outputs": [],
   "source": []
  },
  {
   "cell_type": "markdown",
   "metadata": {},
   "source": [
    "## Définition des vecteurs des forces aérodynamiques dans la base NED"
   ]
  },
  {
   "cell_type": "code",
   "execution_count": 3,
   "metadata": {},
   "outputs": [],
   "source": [
    "frontward_B = B_B.col(0)\n",
    "upward_B    = B_B.col(2)\n",
    "crossward_B = B_B.col(1)\n",
    "\n",
    "frontward_NED = B_NED.col(0)\n",
    "upward_NED    = B_NED.col(2)\n",
    "crossward_NED = B_NED.col(1)\n"
   ]
  },
  {
   "cell_type": "markdown",
   "metadata": {},
   "source": [
    "Fonction permettant de calculer les forces aéro en fonction de la vitesse Air, de la vitesse de déplacement et des coeffs aéro dans le repère body"
   ]
  },
  {
   "cell_type": "code",
   "execution_count": 4,
   "metadata": {},
   "outputs": [],
   "source": [
    "def GenForceWing(Omega, A, cp, vB, vW, R, crossward_NED, Cd, Cl, VelLim=0.1):\n",
    "\n",
    "    Air_speed_earth = MatAdd(vB, -vW)\n",
    "    Air_speed_body  = (R.T* Air_speed_earth)\n",
    "    Air_speed_body  = Air_speed_body - cross(Omega,cp)\n",
    "    \n",
    "    Air_speed_earth_norm = 0\n",
    "    for i in Air_speed_earth : \n",
    "        Air_speed_earth_norm = Air_speed_earth_norm + i**2\n",
    "    Air_speed_earth_norm = 1#Air_speed_earth_norm**0.5\n",
    "    VelinLDPlane    = MatAdd(Air_speed_earth, - MatMul(MatMul(Air_speed_earth, crossward_NED.T) , Air_speed_earth/ Air_speed_earth_norm))\n",
    "    \n",
    "    VelinLDPlane_norm = 0\n",
    "    for i in VelinLDPlane : \n",
    "        VelinLDPlane_norm = VelinLDPlane_norm + i**2\n",
    "    VelinLDPlane_norm = 1#VelinLDPlane_norm**0.5\n",
    "    \n",
    "    dragDirection = -VelinLDPlane/VelinLDPlane_norm # if VelinLDPlane_norm > VelLim else Matrix([0,0,0])\n",
    "    liftDirection = (crossward_NED).cross(dragDirection) # if crossward_NED.norm() > VelLim else Matrix([0,0,0])\n",
    "\n",
    "    L = A * VelinLDPlane_norm**2 * dragDirection * Cl\n",
    "    D = A * VelinLDPlane_norm**2 * liftDirection * Cd\n",
    "\n",
    "    F_wing = L+D \n",
    "\n",
    "    Torque_wing =  cross(cp,((R.T*F_wing)))\n",
    "\n",
    "    return F_wing, Torque_wing"
   ]
  },
  {
   "cell_type": "code",
   "execution_count": 5,
   "metadata": {},
   "outputs": [
    {
     "name": "stdout",
     "output_type": "stream",
     "text": [
      "                                                          ⎡A⋅C_d⋅((v_B_10 - v_\n",
      "                                                          ⎢                   \n",
      "-A⋅Cₗ⋅(-v_W -(-v_W + v_B)⋅[0  1  0]⋅(-v_W + v_B) + v_B) + ⎢                   \n",
      "                                                          ⎢                   \n",
      "                                                          ⎣A⋅C_d⋅(-(v_B_00 - v\n",
      "\n",
      "W_10)⋅(v_B_20 - v_W_20) - v_B_20 + v_W_20) ⎤\n",
      "                                           ⎥\n",
      "           0                               ⎥\n",
      "                                           ⎥\n",
      "_W_00)⋅(v_B_10 - v_W_10) + v_B_00 - v_W_00)⎦\n"
     ]
    }
   ],
   "source": [
    "Omega_test = Matrix([[1,0,0],[0,1,0],[0,0,1]])           # Matrice Omega \n",
    "vB = Matrix([1,0,0])                                     # Vitesse dans le repère body\n",
    "vW = Matrix([0, 0,1])                                   # Vitesse du vent dans le repère NED\n",
    "cp = Matrix([0,-1,0])\n",
    "#R = Matrix([[0,1,0],[-1,0,0],[0,0,1]])\n",
    "Cd =0.1\n",
    "Cl =1\n",
    "Aire = 0.5 * 1.292 * 0.1 *0.5 \n",
    "\n",
    "F1,Q1 = GenForceWing(Omega, A, c_p, v_B, v_W, R, crossward_NED, c_d, c_l, VelLim=0.1)\n",
    "pprint(F1)\n",
    "#pprint(Q1)"
   ]
  },
  {
   "cell_type": "markdown",
   "metadata": {},
   "source": [
    "Lambdyfication des fonction des forces des ailes "
   ]
  },
  {
   "cell_type": "code",
   "execution_count": 6,
   "metadata": {},
   "outputs": [
    {
     "ename": "SyntaxError",
     "evalue": "cannot assign to literal (<lambdifygenerated-1>, line 2)",
     "output_type": "error",
     "traceback": [
      "Traceback \u001b[0;36m(most recent call last)\u001b[0m:\n",
      "  File \u001b[1;32m\"/home/mehdi/anaconda3/lib/python3.8/site-packages/IPython/core/interactiveshell.py\"\u001b[0m, line \u001b[1;32m3418\u001b[0m, in \u001b[1;35mrun_code\u001b[0m\n    exec(code_obj, self.user_global_ns, self.user_ns)\n",
      "  File \u001b[1;32m\"<ipython-input-6-dc14bfb4c47d>\"\u001b[0m, line \u001b[1;32m1\u001b[0m, in \u001b[1;35m<module>\u001b[0m\n    F_function = lambdify((Omega, A, c_p, v_B, v_W, R, crossward_NED, c_d, c_l), F1)\n",
      "\u001b[0;36m  File \u001b[0;32m\"/home/mehdi/anaconda3/lib/python3.8/site-packages/sympy/utilities/lambdify.py\"\u001b[0;36m, line \u001b[0;32m853\u001b[0;36m, in \u001b[0;35mlambdify\u001b[0;36m\u001b[0m\n\u001b[0;31m    c = compile(funcstr, filename, 'exec')\u001b[0m\n",
      "\u001b[0;36m  File \u001b[0;32m\"<lambdifygenerated-1>\"\u001b[0;36m, line \u001b[0;32m2\u001b[0m\n\u001b[0;31mSyntaxError\u001b[0m\u001b[0;31m:\u001b[0m cannot assign to literal\n"
     ]
    }
   ],
   "source": [
    "F_function = lambdify((Omega, A, c_p, v_B, v_W, R, crossward_NED, c_d, c_l), F1)"
   ]
  },
  {
   "cell_type": "markdown",
   "metadata": {},
   "source": [
    "Fonction permettant de calculer la poussé des moteurs"
   ]
  },
  {
   "cell_type": "code",
   "execution_count": null,
   "metadata": {},
   "outputs": [],
   "source": [
    "def GenForceMoteur(Omega, ct, cq, omega_rotor, cp, Air_speed_body, motor_axis_in_body_frame):\n",
    "    \n",
    "    air_speed_in_rotor_frame = Air_speed_body - Omega * cp\n",
    "    Axial_speed = air_speed_in_rotor_frame.cross(motor_axis_in_body_frame)\n",
    "    lat_speed = air_speed_in_rotor_frame - Axial_speed.cross(motor_axis_in_body_frame)\n",
    "        \n",
    "    T = np.clip(0, ct*omega_rotor**2 * np.clip(1.0, ct*air_speed_in_rotor_frame.norm(),0.1), 1e5)\n",
    "    \n",
    "    T_vec = T * motor_axis_in_body_frame \n",
    "    \n",
    "    torque = - omega_rotor * cq * lat_speed\n",
    "    torque = - cq * T * motor_axis_in_body_frame \n",
    "    torque = torque.T\n",
    "    torque_at_body_center = torque.T + (cp).cross(T_vec.T)\n",
    "        \n",
    "    return T_vec, torque_at_body_center"
   ]
  },
  {
   "cell_type": "code",
   "execution_count": null,
   "metadata": {},
   "outputs": [],
   "source": [
    "Omega_rotor = 2000*60/2/np.pi\n",
    "Air_speed_body = Matrix([10,1,0])\n",
    "motor_axis_in_body_frame = Matrix([1,0,0])\n",
    "ct =1.1e-4\n",
    "cq =1e-6\n",
    "F1,Q1 = GenForceMoteur(Omega_test, ct, cq, Omega_rotor, cp , Air_speed_body, motor_axis_in_body_frame)\n",
    "pprint(F1)\n",
    "pprint(Q1)"
   ]
  },
  {
   "cell_type": "code",
   "execution_count": null,
   "metadata": {},
   "outputs": [],
   "source": []
  }
 ],
 "metadata": {
  "kernelspec": {
   "display_name": "Python 3",
   "language": "python",
   "name": "python3"
  },
  "language_info": {
   "codemirror_mode": {
    "name": "ipython",
    "version": 3
   },
   "file_extension": ".py",
   "mimetype": "text/x-python",
   "name": "python",
   "nbconvert_exporter": "python",
   "pygments_lexer": "ipython3",
   "version": "3.8.8"
  }
 },
 "nbformat": 4,
 "nbformat_minor": 4
}
