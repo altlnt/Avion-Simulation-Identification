{
 "cells": [
  {
   "cell_type": "code",
   "execution_count": 1,
   "metadata": {},
   "outputs": [],
   "source": [
    "from sympy.solvers import solve\n",
    "from sympy.vector import *\n",
    "from sympy import *\n",
    "import math \n",
    "import numpy as np\n",
    "from pylab import *\n",
    "\n",
    "init_printing()"
   ]
  },
  {
   "cell_type": "markdown",
   "metadata": {},
   "source": [
    "# Definition des paramètres "
   ]
  },
  {
   "cell_type": "code",
   "execution_count": 2,
   "metadata": {},
   "outputs": [],
   "source": [
    "B_NED     = Matrix([[1,0,0], [0,1,0], [0,0,1]])                              # Base dans le repère NED\n",
    "B_B       = Matrix([[1,0,0], [0,1,0], [0,0,1]])                              # Base dans le repère body\n",
    "\n",
    "omega1, omega2, omega3 = symbols('\\omega_1, \\omega_2, \\omega_3', real=True)\n",
    "Omega     = Matrix([omega1, omega2, omega3])                                    # Vecteur de rotation\n",
    " \n",
    "r00, r01, r02, r10, r11, r12, r20, r21, r22 = symbols('r_{00}, r_{01}, r_{02}, r_{10}, r_{11}, r_{12}, r_{20}, r_{21}, r_{22}', real=True)\n",
    "R         = Matrix([[r00,r01,r02], [r10,r11, r12], [r20, r21, r22]])                    # Matrice de rotation\n",
    "R_eleron         = R * rot_axis1(45*180/np.pi)                   # Matrice de rotation\n",
    "R_eleron2         = R * rot_axis1(-45*180/np.pi)                   # Matrice de rotation\n",
    "\n",
    "\n",
    "Vb1,Vb2,Vb3=symbols('V_{b1} V_{b2} V_{b3}',real=True)\n",
    "v_B        = Matrix([Vb1, Vb2, Vb3])                    # Vitesse du corps (repère drone)\n",
    "\n",
    "Vw1,Vw2,Vw3=symbols('V_{w1} V_{w2} V_{w3}',real=True)\n",
    "v_W        = Matrix([Vw1, Vw2, Vw3])\n",
    "\n",
    "delta_rotor     = MatrixSymbol('delta_{rotor}', 3,1 )              # Position du corps dans le repère NED\n",
    "\n",
    "xNED, yNED, zNED = symbols('x_{NED}, y_{NED}, z_{NED}')\n",
    "X_NED     = Matrix([xNED, yNED, zNED])              # Position du corps dans le repère NED\n",
    "\n",
    "xcp, ycp, zcp = symbols('x_{cp}, y_{cp}, z_{cp}')\n",
    "X_cp     = Matrix([xcp, ycp, zcp])  \n",
    "X_cp_list = np.array([Matrix([X_cp]), Matrix([X_cp]), Matrix([X_cp]), Matrix([X_cp])])\n",
    "\n",
    "Aw1, Aw2, Aw3          = symbols('A_{w1}, A_{w2}, A_{w3}', real=True)                     # 0.5 * rho * S \n",
    "A = Symbol('A', real=True)\n",
    "A_list = Matrix([Aw1, Aw1, Aw2, Aw2, Aw3])\n",
    "\n",
    "cl1, cl2, cl3, cl4, cl5 = symbols('cl_1, cl_2, cl_3, cl_4, cl_5', real=True)\n",
    "cd1, cd2, cd3, cd4, cd5 = symbols('cd_1, cd_2, cd_3, cd_4, cd_5', real=True)\n",
    "\n",
    "Ch = Symbol('c_h')\n",
    "\n",
    "VxNED, VyNED , VzNED = symbols('V_{NED_x} V_{NED_y} V_{NED_z}') \n",
    "Air_speed_earth  = Matrix([VxNED, VyNED , VzNED]) # air speed dans le repère NED\n",
    "\n",
    "VxBody, VyBody, VzBody = symbols('V_{body_x} V_{body_y} V_{body_z}') \n",
    "Air_speed_body   = Matrix([VxBody, VyBody, VzBody])# air speed dans le repère body\n",
    "\n",
    "omega,ct=symbols('\\omega,C_t',real=True)                # vitesse de rotation des moteurs, et coefficient de poussé des helices\n",
    "Cd, Cl, Ct, Cq, Ch =symbols('C_d,C_l,C_t,C_q, C_h',real=True)                # vitesse de rotation des moteurs, et coefficient de poussé des helices\n",
    "\n",
    "motor_axis_in_body_frame = Matrix([1,0,0])\n",
    "\n",
    "omega_rotor = symbols('\\omega_{rotor}', real=True)\n",
    "spinning_sense = symbols('\\epsilon_{spin}', int=True)\n",
    "nb_rotor = 4\n"
   ]
  },
  {
   "cell_type": "markdown",
   "metadata": {},
   "source": [
    "Initialisation des bases des repères Body et NED"
   ]
  },
  {
   "cell_type": "code",
   "execution_count": 3,
   "metadata": {},
   "outputs": [],
   "source": [
    "frontward_B = B_B[:,0]\n",
    "upward_B    = B_B[:,2]\n",
    "crossward_B = B_B[:,1]\n",
    "\n",
    "frontward_NED = B_NED[:,0]\n",
    "upward_NED    = B_NED[:,2]\n",
    "crossward_NED = B_NED[:,1]"
   ]
  },
  {
   "cell_type": "markdown",
   "metadata": {},
   "source": [
    "## Fonction générant les équations pour les efforts aérodynamiques des ailes dans le repère body "
   ]
  },
  {
   "cell_type": "code",
   "execution_count": 4,
   "metadata": {},
   "outputs": [],
   "source": [
    "def GenDirectForceWing(Omega, cp, vB, vW, R, crossward_Body):\n",
    "\n",
    "    Air_speed_earth = vB - vW \n",
    "    Air_speed_body  = (R.T* Air_speed_earth) - cp.cross(Omega)\n",
    "    VelinLDPlane    = Air_speed_body - Air_speed_body.dot(crossward_Body.T) *  R.T * crossward_Body\n",
    "    \n",
    "    dragDirection = -VelinLDPlane / VelinLDPlane.norm()  #if VelinLDPlane_norm > VelLim else Matrix([0,0,0])\n",
    "    liftDirection = crossward_Body.cross(dragDirection) #if crossward_NED.norm() > VelLim else Matrix([0,0,0])\n",
    "\n",
    "    return VelinLDPlane, dragDirection, liftDirection\n",
    "\n",
    "def GenForceWing(A, VelinLDPlane, dragDirection, liftDirection, Cd, Cl, cp):\n",
    "    D = A * VelinLDPlane.norm()**2 * dragDirection * Cd\n",
    "    L = A * VelinLDPlane.norm()**2 * liftDirection * Cl\n",
    "\n",
    "    F_wing = L+D \n",
    "    Torque_wing =  cp.cross(F_wing)\n",
    "\n",
    "    return F_wing, Torque_wing\n",
    "\n",
    "def Generate_Sum_Force_wing(A_list, Omega, cp_list, R_list, vB, vW,  Cd_list, Cl_list, crossward_body, r_queue, r_queue_neg):\n",
    "    # Cette function permet de généer l'équation complète de la somme des forces pour les différentes surfaces portantes \n",
    "    p = 0\n",
    "    Sum_Force_Wing = Matrix([0,0,0])\n",
    "    Sum_Torque_Wing =  Matrix([0,0,0])\n",
    "    for i in cp_list:\n",
    "        VelinLDPlane, dragDirection, liftDirection= GenDirectForceWing(Omega, i, vB, vW, R_list[p], crossward_body)\n",
    "        if p == 2 :\n",
    "            # Comme la fonction GenForceWing donne les efforts des ailes dans leur repère propre, on doit passer par les matrice de rotation pour les ailes de la queue\n",
    "            F_wing, Torque_wing =  GenForceWing(A_list[p], VelinLDPlane, dragDirection, liftDirection, Cd_list[p], Cl_list[p], Matrix([0,0,0]))\n",
    "            Sum_Force_Wing  = Sum_Force_Wing +  r_queue.T  * F_wing\n",
    "            Sum_Torque_Wing = Sum_Torque_Wing + i.cross(r_queue.T  * F_wing)\n",
    "        elif p == 3 :\n",
    "            F_wing, Torque_wing =  GenForceWing(A_list[p], VelinLDPlane, dragDirection, liftDirection, Cd_list[p], Cl_list[p], Matrix([0,0,0]))\n",
    "            Sum_Force_Wing  = Sum_Force_Wing +  r_queue_neg.T  * F_wing\n",
    "            Sum_Torque_Wing = Sum_Torque_Wing + i.cross(r_queue_neg.T  * F_wing)\n",
    "        else:\n",
    "            F_wing, Torque_wing =  GenForceWing(A_list[p], VelinLDPlane, dragDirection, liftDirection, Cd_list[p], Cl_list[p], i)\n",
    "            Sum_Force_Wing  = Sum_Force_Wing +  F_wing\n",
    "            Sum_Torque_Wing = Sum_Torque_Wing + Torque_wing\n",
    "        p+=1\n",
    "\n",
    "    return Sum_Force_Wing, Sum_Torque_Wing"
   ]
  },
  {
   "cell_type": "markdown",
   "metadata": {},
   "source": [
    "Génération de équations vectorielles pour les forces et les couples aéro"
   ]
  },
  {
   "cell_type": "code",
   "execution_count": 5,
   "metadata": {},
   "outputs": [],
   "source": [
    "VelinLDPlane, dragDirection, liftDirection =  GenDirectForceWing(Omega, X_cp, v_B, v_W, R, crossward_B)\n",
    "F, Q = GenForceWing(A, VelinLDPlane, dragDirection, liftDirection, Cd, Cl, X_cp)"
   ]
  },
  {
   "cell_type": "markdown",
   "metadata": {},
   "source": [
    "lambificaton des fonctions "
   ]
  },
  {
   "cell_type": "code",
   "execution_count": 6,
   "metadata": {},
   "outputs": [],
   "source": [
    "VelinLDPlane_function = lambdify((Omega, X_cp, v_B, v_W, R), VelinLDPlane, 'numpy')\n",
    "dragDirection_function = lambdify((Omega, X_cp, v_B, v_W, R), dragDirection, 'numpy')\n",
    "liftDirection_function = lambdify((Omega, X_cp, v_B, v_W, R), liftDirection, 'numpy')"
   ]
  },
  {
   "cell_type": "markdown",
   "metadata": {},
   "source": [
    "Simplification de l'équation de la force produite par une aile en fonction de la vitesse et des paramètres aéro"
   ]
  },
  {
   "cell_type": "code",
   "execution_count": 7,
   "metadata": {},
   "outputs": [],
   "source": [
    "F.simplify()\n",
    "#F"
   ]
  },
  {
   "cell_type": "markdown",
   "metadata": {},
   "source": [
    "Simplification de l'équation du couple produit par une aile en fonction de la vitesse et des paramètres aéro"
   ]
  },
  {
   "cell_type": "code",
   "execution_count": 8,
   "metadata": {},
   "outputs": [],
   "source": [
    "Q.simplify()\n",
    "#Q"
   ]
  },
  {
   "cell_type": "markdown",
   "metadata": {},
   "source": [
    "Lambdification des foncionsvecteurs"
   ]
  },
  {
   "cell_type": "code",
   "execution_count": 9,
   "metadata": {},
   "outputs": [],
   "source": [
    "Force_wing_function = lambdify((A, Cd, Cl, v_B, v_W, Omega, X_cp, R), F, 'sympy')\n",
    "Torque_wing_function = lambdify((A, Cd, Cl, v_B, v_W, Omega, X_cp, R), Q, 'sympy')"
   ]
  },
  {
   "cell_type": "markdown",
   "metadata": {},
   "source": [
    "## Génération des équations totales des surfaces"
   ]
  },
  {
   "cell_type": "code",
   "execution_count": 10,
   "metadata": {},
   "outputs": [],
   "source": [
    "############################################## Initilisation des paramètres pour la génération des équations des ailes ###########################\n",
    "c45, s45 = np.cos(45*np.pi/180), np.sin(45*np.pi/180)\n",
    "r = np.array(((1,0, 0),(0,c45,-s45),(0,s45, c45)))\n",
    "r_neg     = np.array(((1,0, 0), (0,c45, s45),(0,-s45, c45)))\n",
    "R_eleron  = R * r \n",
    "R_eleron2 = R * r_neg  \n",
    "R_list = [R, R, R_eleron, R_eleron2, R]      # Liste des matrices de rotation de chaque surface portante du drone, seul les éléments de la queue (element 3 et 4) ne sont pas dans le repère inertiel. \n",
    "\n",
    "cp1x,cp1y, cp1z, cp2x,cp2y,cp2z, cp3x,cp3y,cp3z, cp4x,cp4y,cp4z,cp5x,cp5y,cp5z = symbols('cp1x,cp1y, cp1z, cp2x,cp2y,cp2z, cp3x,cp3y,cp3z, cp4x,cp4y,cp4z,cp5x,cp5y,cp5z', real=True)\n",
    "cp_list = [Matrix([cp1x,cp1y, cp1z]), Matrix([cp2x,cp2y,cp2z]), Matrix([cp3x,cp3y,cp3z]), Matrix([cp4x,cp4y,cp4z]), Matrix([cp5x,cp5y,cp5z])]\n",
    "\n",
    "A_list = [0.075* 1.292 * 0.5, 0.075* 1.292 * 0.5, 0.01* 1.292 * 0.5, 0.01* 1.292 * 0.5, 0.08* 1.292 * 0.5]  # Liste des 1/2 * rho * S pour chaque surface\n",
    "Cd_list_init = [cd1, cd2, cd3, cd4, cd5]\n",
    "Cl_list_init = [cl1, cl2, cl3, cl4, cl5]\n",
    "\n",
    "############################################### Génération des équations : ######################################\n",
    "##################### Sommes des efforts des surfaces portantes\n",
    "  # Ces équations sont celles qui vont être utilisé en simulation, elle génèrent les efforts des différents moteurs et surfaces portantes sur le drone dans le repère intertiel. \n",
    "Sum_F_wing, Sum_T_wing = Generate_Sum_Force_wing(A_list, Omega, cp_list, R_list, v_B, v_W, Cd_list_init, Cl_list_init, crossward_B, r, r_neg)\n",
    "#Sum_F_wing.simplify()    # On ne fait pas les simplifications car elles prennent trop de temps et ne permettent pas de gagner en rapidité de manière conséquente.\n",
    "#Sum_T_wing.simplify()\n",
    "\n",
    "## Lambdification des fonctions  \n",
    "Sum_F_wing_function = lambdify((Omega, R, v_B, v_W, cp_list, Cd_list_init, Cl_list_init), Sum_F_wing, 'numpy')\n",
    "Sum_T_wing_function = lambdify((Omega, R, v_B, v_W, cp_list, Cd_list_init, Cl_list_init), Sum_T_wing, 'numpy')"
   ]
  },
  {
   "cell_type": "markdown",
   "metadata": {},
   "source": [
    "## Fonction générant les équations aérodynamiques pour les moteurs dans le repère body"
   ]
  },
  {
   "cell_type": "code",
   "execution_count": 11,
   "metadata": {},
   "outputs": [],
   "source": [
    "def GenForceMoteur(Omega, ct, cq, ch, omega_rotor, cp, vB, vW, R, motor_axis_in_body_frame, spinning_sense):\n",
    "    ## Cette fonction calcule les effort produit par un rotor sur le drone en fonction de son sens de rotation et de sa localisation, les efforts sont donnés\n",
    "    ## dans le repère body. l'axe des moteur est placé suivant l'axe x du drone (mode avion seulement)\n",
    "    Air_speed_earth = vB - vW\n",
    "    air_speed_in_rotor_frame = (R.T* Air_speed_earth) - cp.cross(Omega)\n",
    "    Axial_speed = air_speed_in_rotor_frame.dot(motor_axis_in_body_frame)\n",
    "    lat_speed = air_speed_in_rotor_frame - (Axial_speed * (motor_axis_in_body_frame))\n",
    "        \n",
    "    T = ct*omega_rotor**2\n",
    "    H = ch * omega_rotor\n",
    "    \n",
    "    T_vec = T * motor_axis_in_body_frame - H * lat_speed\n",
    "    \n",
    "    torque = - omega_rotor * cq * lat_speed\n",
    "    torque = - spinning_sense * cq * T * motor_axis_in_body_frame \n",
    "    torque_at_body_center = torque + cp.cross(T_vec.T)\n",
    "        \n",
    "    return T_vec, torque_at_body_center\n",
    "\n",
    "def Generate_Sum_Force_Moteur(Omega, ct, cq, ch, omega_rotor, cp_list, vB, vW, R, motor_axis_in_body_frame_list, spinning_sense_list):\n",
    "    # Calcul des forces des moteurs sur le drone, génère toutes les forces, ainsi que le couple appliqué au centre de gravité du drone, dans le repère inertiel\n",
    "    p = 0\n",
    "    Sum_Force_Rotor = Matrix([0,0,0])\n",
    "    Sum_Torque_Rotor =  Matrix([0,0,0])\n",
    "    for cp in cp_list:\n",
    "        F_rotor, Q_rotor = GenForceMoteur(Omega, ct, cq, ch, omega_rotor, cp, vB, vW,R, motor_axis_in_body_frame_list, spinning_sense_list[p])        \n",
    "        Sum_Force_Rotor  = Sum_Force_Rotor + F_rotor\n",
    "        Sum_Torque_Rotor = Sum_Torque_Rotor + Q_rotor\n",
    "        p+=1\n",
    "\n",
    "    return Sum_Force_Rotor, Sum_Torque_Rotor"
   ]
  },
  {
   "cell_type": "code",
   "execution_count": 12,
   "metadata": {},
   "outputs": [],
   "source": [
    "Force_rotor, Torque_rotor = GenForceMoteur(Omega, Ct, Cq, Ch, omega_rotor, X_cp, v_B, v_W, R, motor_axis_in_body_frame, spinning_sense)"
   ]
  },
  {
   "cell_type": "code",
   "execution_count": 13,
   "metadata": {},
   "outputs": [
    {
     "data": {
      "text/latex": [
       "$\\displaystyle \\left[\\begin{matrix}C_{t} \\omega_{rotor}^{2}\\\\- C_{h} \\omega_{rotor} \\left(- \\omega_{1} z_{cp} + \\omega_{3} x_{cp} + r_{01} \\left(V_{b1} - V_{w1}\\right) + r_{11} \\left(V_{b2} - V_{w2}\\right) + r_{21} \\left(V_{b3} - V_{w3}\\right)\\right)\\\\- C_{h} \\omega_{rotor} \\left(\\omega_{1} y_{cp} - \\omega_{2} x_{cp} + r_{02} \\left(V_{b1} - V_{w1}\\right) + r_{12} \\left(V_{b2} - V_{w2}\\right) + r_{22} \\left(V_{b3} - V_{w3}\\right)\\right)\\end{matrix}\\right]$"
      ],
      "text/plain": [
       "⎡                                                                           2 \n",
       "⎢                                                          Cₜ⋅\\omega_{rotor}  \n",
       "⎢                                                                             \n",
       "⎢-Cₕ⋅\\omega_{rotor}⋅(-\\omega₁⋅z_{cp} + \\omega₃⋅x_{cp} + r_{01}⋅(V_{b1} - V_{w1\n",
       "⎢                                                                             \n",
       "⎣-Cₕ⋅\\omega_{rotor}⋅(\\omega₁⋅y_{cp} - \\omega₂⋅x_{cp} + r_{02}⋅(V_{b1} - V_{w1}\n",
       "\n",
       "                                                         ⎤\n",
       "                                                         ⎥\n",
       "                                                         ⎥\n",
       "}) + r_{11}⋅(V_{b2} - V_{w2}) + r_{21}⋅(V_{b3} - V_{w3}))⎥\n",
       "                                                         ⎥\n",
       ") + r_{12}⋅(V_{b2} - V_{w2}) + r_{22}⋅(V_{b3} - V_{w3})) ⎦"
      ]
     },
     "execution_count": 13,
     "metadata": {},
     "output_type": "execute_result"
    }
   ],
   "source": [
    "Force_rotor"
   ]
  },
  {
   "cell_type": "markdown",
   "metadata": {},
   "source": [
    "Génération des équations des forces des moteurs"
   ]
  },
  {
   "cell_type": "code",
   "execution_count": 14,
   "metadata": {},
   "outputs": [
    {
     "data": {
      "text/latex": [
       "$\\displaystyle \\left[\\begin{matrix}- C_{h} \\omega_{rotor} y_{cp} \\left(\\omega_{1} y_{cp} - \\omega_{2} x_{cp} + r_{02} \\left(V_{b1} - V_{w1}\\right) + r_{12} \\left(V_{b2} - V_{w2}\\right) + r_{22} \\left(V_{b3} - V_{w3}\\right)\\right) + C_{h} \\omega_{rotor} z_{cp} \\left(- \\omega_{1} z_{cp} + \\omega_{3} x_{cp} + r_{01} \\left(V_{b1} - V_{w1}\\right) + r_{11} \\left(V_{b2} - V_{w2}\\right) + r_{21} \\left(V_{b3} - V_{w3}\\right)\\right) - C_{q} C_{t} \\epsilon_{spin} \\omega_{rotor}^{2}\\\\C_{h} \\omega_{rotor} x_{cp} \\left(\\omega_{1} y_{cp} - \\omega_{2} x_{cp} + r_{02} \\left(V_{b1} - V_{w1}\\right) + r_{12} \\left(V_{b2} - V_{w2}\\right) + r_{22} \\left(V_{b3} - V_{w3}\\right)\\right) + C_{t} \\omega_{rotor}^{2} z_{cp}\\\\- C_{h} \\omega_{rotor} x_{cp} \\left(- \\omega_{1} z_{cp} + \\omega_{3} x_{cp} + r_{01} \\left(V_{b1} - V_{w1}\\right) + r_{11} \\left(V_{b2} - V_{w2}\\right) + r_{21} \\left(V_{b3} - V_{w3}\\right)\\right) - C_{t} \\omega_{rotor}^{2} y_{cp}\\end{matrix}\\right]$"
      ],
      "text/plain": [
       "⎡                                                                             \n",
       "⎢-Cₕ⋅\\omega_{rotor}⋅y_{cp}⋅(\\omega₁⋅y_{cp} - \\omega₂⋅x_{cp} + r_{02}⋅(V_{b1} -\n",
       "⎢                                                                             \n",
       "⎢                                                                             \n",
       "⎢                                                                             \n",
       "⎢                                                                             \n",
       "⎢                                                                             \n",
       "⎣                                                                             \n",
       "\n",
       "                                                                              \n",
       " V_{w1}) + r_{12}⋅(V_{b2} - V_{w2}) + r_{22}⋅(V_{b3} - V_{w3})) + Cₕ⋅\\omega_{r\n",
       "                                                                              \n",
       "                                                                              \n",
       " Cₕ⋅\\omega_{rotor}⋅x_{cp}⋅(\\omega₁⋅y_{cp} - \\omega₂⋅x_{cp} + r_{02}⋅(V_{b1} - \n",
       "                                                                              \n",
       "                                                                              \n",
       "-Cₕ⋅\\omega_{rotor}⋅x_{cp}⋅(-\\omega₁⋅z_{cp} + \\omega₃⋅x_{cp} + r_{01}⋅(V_{b1} -\n",
       "\n",
       "                                                                              \n",
       "otor}⋅z_{cp}⋅(-\\omega₁⋅z_{cp} + \\omega₃⋅x_{cp} + r_{01}⋅(V_{b1} - V_{w1}) + r_\n",
       "                                                                              \n",
       "                                                                              \n",
       "V_{w1}) + r_{12}⋅(V_{b2} - V_{w2}) + r_{22}⋅(V_{b3} - V_{w3})) + Cₜ⋅\\omega_{ro\n",
       "                                                                              \n",
       "                                                                              \n",
       " V_{w1}) + r_{11}⋅(V_{b2} - V_{w2}) + r_{21}⋅(V_{b3} - V_{w3})) - Cₜ⋅\\omega_{r\n",
       "\n",
       "                                                                              \n",
       "{11}⋅(V_{b2} - V_{w2}) + r_{21}⋅(V_{b3} - V_{w3})) - C_q⋅Cₜ⋅\\epsilon_{spin}⋅\\o\n",
       "                                                                              \n",
       "    2                                                                         \n",
       "tor} ⋅z_{cp}                                                                  \n",
       "                                                                              \n",
       "     2                                                                        \n",
       "otor} ⋅y_{cp}                                                                 \n",
       "\n",
       "            2⎤\n",
       "mega_{rotor} ⎥\n",
       "             ⎥\n",
       "             ⎥\n",
       "             ⎥\n",
       "             ⎥\n",
       "             ⎥\n",
       "             ⎦"
      ]
     },
     "execution_count": 14,
     "metadata": {},
     "output_type": "execute_result"
    }
   ],
   "source": [
    "Torque_rotor"
   ]
  },
  {
   "cell_type": "markdown",
   "metadata": {},
   "source": [
    "Lambdififcation des fonctions pour les forces moteurs"
   ]
  },
  {
   "cell_type": "code",
   "execution_count": 15,
   "metadata": {},
   "outputs": [],
   "source": [
    "Force_rotor_function = lambdify((Ct, Ch, omega_rotor, v_B, v_W, R, Omega, X_cp), Force_rotor)\n",
    "Torque_rotor_function = lambdify((Cq, Ct, Ch,omega_rotor, Omega, R, v_B, v_W, X_cp, spinning_sense), Torque_rotor)"
   ]
  },
  {
   "cell_type": "markdown",
   "metadata": {},
   "source": [
    "## Génération des équations pour les 4 moteurs"
   ]
  },
  {
   "cell_type": "code",
   "execution_count": 16,
   "metadata": {},
   "outputs": [],
   "source": [
    "# Initialisation pour les équations des rotors\n",
    "cp_list_rotor = [Matrix([0.2,0.45,0]), Matrix([0.2,-0.45,0])]\n",
    "spinning_sense_list = [1,-1]\n",
    "\n",
    "###################### Ces équations donnes les équations de la sommes des efforts des moteurs sur le drone dans le repère intertiel\n",
    "Sum_F_rotor, Sum_T_rotor = Generate_Sum_Force_Moteur(Omega, Ct, Cq, Ch, omega_rotor, cp_list_rotor, v_B, v_W, R, motor_axis_in_body_frame, spinning_sense_list)\n",
    "Sum_F_rotor.simplify()\n",
    "Sum_T_rotor.simplify()\n",
    "\n",
    "## Lamdification des fonctions\n",
    "Sum_F_rotor_function = lambdify((Omega, R, v_B, v_W, Ct, Cq, Ch, omega_rotor), Sum_F_rotor, 'numpy')\n",
    "Sum_T_rotor_function = lambdify((Omega, R, v_B, v_W, Ct, Cq, Ch, omega_rotor), Sum_T_rotor, 'numpy')"
   ]
  },
  {
   "cell_type": "code",
   "execution_count": 17,
   "metadata": {},
   "outputs": [
    {
     "data": {
      "text/latex": [
       "$\\displaystyle \\left[\\begin{matrix}2 C_{t} \\omega_{rotor}^{2}\\\\- 2 C_{h} \\omega_{rotor} \\left(0.2 \\omega_{3} + r_{01} \\left(V_{b1} - V_{w1}\\right) + r_{11} \\left(V_{b2} - V_{w2}\\right) + r_{21} \\left(V_{b3} - V_{w3}\\right)\\right)\\\\C_{h} \\omega_{rotor} \\left(0.4 \\omega_{2} - 2 r_{02} \\left(V_{b1} - V_{w1}\\right) - 2 r_{12} \\left(V_{b2} - V_{w2}\\right) - 2 r_{22} \\left(V_{b3} - V_{w3}\\right)\\right)\\end{matrix}\\right]$"
      ],
      "text/plain": [
       "⎡                                                                    2        \n",
       "⎢                                                 2⋅Cₜ⋅\\omega_{rotor}         \n",
       "⎢                                                                             \n",
       "⎢ -2⋅Cₕ⋅\\omega_{rotor}⋅(0.2⋅\\omega₃ + r_{01}⋅(V_{b1} - V_{w1}) + r_{11}⋅(V_{b2\n",
       "⎢                                                                             \n",
       "⎣Cₕ⋅\\omega_{rotor}⋅(0.4⋅\\omega₂ - 2⋅r_{02}⋅(V_{b1} - V_{w1}) - 2⋅r_{12}⋅(V_{b2\n",
       "\n",
       "                                         ⎤\n",
       "                                         ⎥\n",
       "                                         ⎥\n",
       "} - V_{w2}) + r_{21}⋅(V_{b3} - V_{w3}))  ⎥\n",
       "                                         ⎥\n",
       "} - V_{w2}) - 2⋅r_{22}⋅(V_{b3} - V_{w3}))⎦"
      ]
     },
     "execution_count": 17,
     "metadata": {},
     "output_type": "execute_result"
    }
   ],
   "source": [
    "Sum_F_rotor"
   ]
  },
  {
   "cell_type": "code",
   "execution_count": 18,
   "metadata": {},
   "outputs": [
    {
     "data": {
      "text/latex": [
       "$\\displaystyle \\left[\\begin{matrix}- 0.405 C_{h} \\omega_{1} \\omega_{rotor}\\\\0.2 C_{h} \\omega_{rotor} \\left(- 0.4 \\omega_{2} + 2 r_{02} \\left(V_{b1} - V_{w1}\\right) + 2 r_{12} \\left(V_{b2} - V_{w2}\\right) + 2 r_{22} \\left(V_{b3} - V_{w3}\\right)\\right)\\\\- 0.4 C_{h} \\omega_{rotor} \\left(0.2 \\omega_{3} + r_{01} \\left(V_{b1} - V_{w1}\\right) + r_{11} \\left(V_{b2} - V_{w2}\\right) + r_{21} \\left(V_{b3} - V_{w3}\\right)\\right)\\end{matrix}\\right]$"
      ],
      "text/plain": [
       "⎡                                             -0.405⋅Cₕ⋅\\omega₁⋅\\omega_{rotor}\n",
       "⎢                                                                             \n",
       "⎢0.2⋅Cₕ⋅\\omega_{rotor}⋅(-0.4⋅\\omega₂ + 2⋅r_{02}⋅(V_{b1} - V_{w1}) + 2⋅r_{12}⋅(\n",
       "⎢                                                                             \n",
       "⎣   -0.4⋅Cₕ⋅\\omega_{rotor}⋅(0.2⋅\\omega₃ + r_{01}⋅(V_{b1} - V_{w1}) + r_{11}⋅(V\n",
       "\n",
       "                                              ⎤\n",
       "                                              ⎥\n",
       "V_{b2} - V_{w2}) + 2⋅r_{22}⋅(V_{b3} - V_{w3}))⎥\n",
       "                                              ⎥\n",
       "_{b2} - V_{w2}) + r_{21}⋅(V_{b3} - V_{w3}))   ⎦"
      ]
     },
     "execution_count": 18,
     "metadata": {},
     "output_type": "execute_result"
    }
   ],
   "source": [
    "Sum_T_rotor"
   ]
  },
  {
   "cell_type": "markdown",
   "metadata": {},
   "source": [
    "# Somme des efforts des ailes et des moteurs "
   ]
  },
  {
   "cell_type": "code",
   "execution_count": 19,
   "metadata": {},
   "outputs": [],
   "source": [
    "##################### Equation des forces et des couples complètes  #################################################    \n",
    "        # Il s'agit de l'équation principale utilisé en simulation, elle regroupe et somme simplement les equations ci-dessus.\n",
    "Effort_Aero = [Sum_F_rotor + Sum_F_wing, Sum_T_rotor + Sum_T_wing]\n",
    "\n",
    "# Somme des forces et des couples des ailes et des moteurs  ur le drone dans le repère intertiel:\n",
    "Effort_Aero_function = lambdify((Omega, R, v_B, v_W, cp_list, Cd_list_init, Cl_list_init, Ct, Cq, Ch, omega_rotor), Effort_Aero, 'numpy')"
   ]
  },
  {
   "cell_type": "markdown",
   "metadata": {},
   "source": [
    "# Test des fonctions "
   ]
  },
  {
   "cell_type": "markdown",
   "metadata": {},
   "source": [
    "Les tests suivants sevent uniquement à oserver si les couples s'annulent bien, et pour vérifier que les forces changent bien de sens en fonction de l'angle d'attaque, sans prendre en compte les coefficients aérodyanamiques. "
   ]
  },
  {
   "cell_type": "markdown",
   "metadata": {},
   "source": [
    "## Efforts des ailes"
   ]
  },
  {
   "cell_type": "code",
   "execution_count": 20,
   "metadata": {},
   "outputs": [
    {
     "data": {
      "image/png": "[encoded data removed]",
      "text/plain": [
       "<Figure size 432x288 with 1 Axes>"
      ]
     },
     "metadata": {
      "needs_background": "light"
     },
     "output_type": "display_data"
    }
   ],
   "source": [
    "theta      = np.arange(-90, 90, 1) * np.pi/180\n",
    "\n",
    "omega_test = Matrix([0,0,0])\n",
    "R_test     = Matrix([[1,0,0],[0,1,0],[0,0,1]])\n",
    "\n",
    "c45, s45 = np.cos(45*np.pi/180), np.sin(45*np.pi/180)\n",
    "\n",
    "vB_test    = Matrix([0,0,0])\n",
    "\n",
    "r = np.array(( (1,0, 0), (0,c45, -s45),(0,s45, c45)) , dtype=np.float)\n",
    "r_neg = np.array(((1,0, 0), (0,-c45, -s45),(0,s45, -c45)), dtype=np.float )\n",
    "\n",
    "R_test =  R_test \n",
    "R_test2 = R_test \n",
    "\n",
    "xcp_test   = Matrix([0,0.15,0])\n",
    "xcp_test2   = Matrix([0,-0.15,0])\n",
    "\n",
    "cl_test    = 0.8\n",
    "cd_test    = 0.2\n",
    "A_test     = 0.037\n",
    "Fx=[]\n",
    "Fz=[]\n",
    "Fy=[]\n",
    "Fx2=[]\n",
    "Fy2=[]\n",
    "Fz2=[]\n",
    "for i in theta : \n",
    "    vW_test = Matrix([np.cos(i),0,0])\n",
    "    F_test  = Force_wing_function(A_test, cd_test, cl_test, vB_test, vW_test, omega_test, xcp_test, R_test)\n",
    "    F_test2  = Force_wing_function(A_test, cd_test, cl_test, vB_test, vW_test, omega_test, xcp_test2, R_test2)\n",
    "    \n",
    "    Fx2 = np.append(Fx2, F_test2[0])\n",
    "    Fy2 = np.append(Fy2, F_test2[1])\n",
    "    Fz2 = np.append(Fz2, F_test2[2])\n",
    "    Fx = np.append(Fx, F_test[0])\n",
    "    Fy = np.append(Fy, F_test[1])\n",
    "    Fz = np.append(Fz, F_test[2])\n",
    "plt.plot(theta*180/np.pi, Fx, label=('Fx'))\n",
    "plt.plot(theta*180/np.pi, Fy, label=('Fy'))\n",
    "plt.plot(theta*180/np.pi, Fz, label=('Fz'))\n",
    "\n",
    "plt.plot(theta*180/np.pi, Fx2, label=('Fx2'))\n",
    "plt.plot(theta*180/np.pi, Fy2, label=('Fy2'))\n",
    "plt.plot(theta*180/np.pi, Fz2, label=('Fz2'))\n",
    "plt.grid()\n",
    "plt.xlabel('angle de la vitesse du vent')\n",
    "plt.ylabel('Force en Newton')\n",
    "plt.title('Force produite par une aile sur le corps, dans le repère body, avec un angle d attaque qui varie.')\n",
    "plt.legend()\n",
    "plt.show()"
   ]
  },
  {
   "cell_type": "code",
   "execution_count": 21,
   "metadata": {},
   "outputs": [
    {
     "data": {
      "image/png": "[encoded data removed]",
      "text/plain": [
       "<Figure size 432x288 with 1 Axes>"
      ]
     },
     "metadata": {
      "needs_background": "light"
     },
     "output_type": "display_data"
    }
   ],
   "source": [
    "Qx=[]\n",
    "Qy=[]\n",
    "Qz=[]\n",
    "Qx2=[]\n",
    "Qy2=[]\n",
    "Qz2=[]\n",
    "for i in theta : \n",
    "    vW_test = Matrix([np.cos(i),0,np.sin(i)])\n",
    "    Qtest = Torque_wing_function(A_test, cd_test, cl_test, vB_test, vW_test, omega_test, xcp_test, R_test)\n",
    "    Qtest2 = Torque_wing_function(A_test, cd_test, cl_test, vB_test, vW_test, omega_test, xcp_test2, R_test2)\n",
    "\n",
    "    Qx2=np.append(Qx2,Qtest2[0])\n",
    "    Qy2=np.append(Qy2,Qtest2[1])\n",
    "    Qz2=np.append(Qz2,Qtest2[2])\n",
    "    Qx=np.append(Qx,Qtest[0])\n",
    "    Qy=np.append(Qy,Qtest[1])\n",
    "    Qz=np.append(Qz,Qtest[2])\n",
    "\n",
    "plt.plot(theta*180/np.pi, Qx+Qx2, label=('Qx'))\n",
    "plt.plot(theta*180/np.pi, Qy+Qy2, label=('Qy'))\n",
    "plt.plot(theta*180/np.pi, Qz+Qz2, label=('Qz'))\n",
    "#plt.plot(theta*180/np.pi, Qx2, label=('Qx2'))\n",
    "#plt.plot(theta*180/np.pi, Qy2, label=('Qy2'))\n",
    "#plt.plot(theta*180/np.pi, Qz2, label=('Qz2'))\n",
    "plt.grid()\n",
    "plt.xlabel('angle de la vitesse du vent')\n",
    "plt.ylabel('Force en Newton')\n",
    "plt.title('Couple produit par deux ailes symétriques sur le corps, dans le repère body, avec un angle d attaque qui varie.')\n",
    "plt.legend()\n",
    "plt.show()\n"
   ]
  },
  {
   "cell_type": "markdown",
   "metadata": {},
   "source": [
    "Test des fonctions des efforts des moteurs"
   ]
  },
  {
   "cell_type": "code",
   "execution_count": 22,
   "metadata": {},
   "outputs": [
    {
     "data": {
      "image/png": "[encoded data removed]",
      "text/plain": [
       "<Figure size 432x288 with 1 Axes>"
      ]
     },
     "metadata": {
      "needs_background": "light"
     },
     "output_type": "display_data"
    }
   ],
   "source": [
    "R_test = Matrix([[1,0,0],[0,1,0],[0,0,1]])\n",
    "Ct_test = 1.1e-4 /2 \n",
    "vW_test = ([0,0,0])\n",
    "vB_test = ([1,0, 1])\n",
    "xcp_test = ([0,0.5,0])\n",
    "omega_rotor_test = np.arange(0.0001, 1, 0.0001)* 1000\n",
    "Ch_test = 0.005\n",
    "\n",
    "Force_rotor_test = Force_rotor_function(Ct_test, Ch_test, omega_rotor_test, vB_test, vW_test, R_test, omega_test, xcp_test)\n",
    "plt.plot(omega_rotor_test, Force_rotor_test[0][0],label=('Fx_rotor'))\n",
    "if size(Force_rotor_test[1][0]) > 1 : plt.plot(omega_rotor_test, Force_rotor_test[1][0],label=('Fy_rotor'))\n",
    "if size(Force_rotor_test[2][0]) > 1 : plt.plot(omega_rotor_test, Force_rotor_test[2][0],label=('Fz_rotor'))\n",
    "plt.xlabel('vitesse de rotation du moteur en rad/s')\n",
    "plt.ylabel('Poussé en N')\n",
    "plt.legend()\n",
    "plt.title('Poussé d un moteur en fonction de sa vitesse de rotation.')\n",
    "plt.grid()\n",
    "plt.show()"
   ]
  },
  {
   "cell_type": "code",
   "execution_count": 23,
   "metadata": {},
   "outputs": [
    {
     "data": {
      "image/png": "[encoded data removed]",
      "text/plain": [
       "<Figure size 432x288 with 1 Axes>"
      ]
     },
     "metadata": {
      "needs_background": "light"
     },
     "output_type": "display_data"
    }
   ],
   "source": [
    "theta = np.arange(-90, 90, 1) * np.pi/180\n",
    "vW_test = ([0,0,0])\n",
    "vB_test = ([1,0,0])\n",
    "xcp_test = ([0,0.5,0])\n",
    "R_test = Matrix([[1,0,0],[0,1,0],[0,0,1]])\n",
    "Ct_test = 1.1e-4\n",
    "omega_rotor_test = np.arange(0.0001, 1, 0.0001)*1000\n",
    "omega_test = ([0,0,0])\n",
    "Cq_test = 0.00005\n",
    "Ch_test = 0.005\n",
    "spinning_sense_test = 1\n",
    "\n",
    "Torque_rotor_test= Torque_rotor_function(Cq_test, Ct_test, Ch_test, omega_rotor_test, omega_test, R_test, vB_test, vW_test, xcp_test, spinning_sense_test)\n",
    "plt.plot(omega_rotor_test, Torque_rotor_test[0][0],label='Qx')\n",
    "plt.plot(omega_rotor_test, Torque_rotor_test[1][0],label='Qy')\n",
    "plt.plot(omega_rotor_test, Torque_rotor_test[2][0],label='Qz')\n",
    "plt.grid()\n",
    "plt.xlabel('vitesse de rotation du moteur en rad/s')\n",
    "plt.ylabel('Couple en N.m')\n",
    "plt.legend()\n",
    "plt.title('Couple d un moteur en fonction de sa vitesse de rotation.')\n",
    "plt.show()\n",
    "\n"
   ]
  },
  {
   "cell_type": "markdown",
   "metadata": {},
   "source": [
    "## Definition de l'angle d'attaque"
   ]
  },
  {
   "cell_type": "code",
   "execution_count": 24,
   "metadata": {},
   "outputs": [],
   "source": [
    "##################################################### Calcul de l'angle d'attaque et calcul du coefficient sigma qui donne la transition entre le modèle flate plate te small angle #################################\n",
    "def compute_alpha_sigma(dragDirection, liftDirection, frontward_Body, VelinLDPlane, alpha_0, alpha_s, delta_s): \n",
    "    calpha= np.vdot(dragDirection, frontward_Body)\n",
    "    absalpha= -acos(calpha)\n",
    "    signalpha = sign(np.vdot(liftDirection, frontward_Body)) \n",
    "    if np.linalg.norm(VelinLDPlane)>1e-7 :\n",
    "        alpha = signalpha*absalpha \n",
    "    else :\n",
    "        alpha=0\n",
    "    if abs(alpha)>0.5*np.pi:\n",
    "        if alpha>0 :alpha=alpha-np.pi \n",
    "        else: alpha=alpha+np.pi\n",
    "            \n",
    "    if alpha>=alpha_s+delta_s-alpha_0:\n",
    "         sigma=0.0\n",
    "    elif alpha>=alpha_s-alpha_0:\n",
    "         sigma=0.5*(1.0+cos(pi*(alpha+alpha_0-alpha_s)/delta_s))\n",
    "    elif alpha>=-alpha_s-alpha_0:\n",
    "         sigma=1.0\n",
    "    elif alpha>=-alpha_s-delta_s-alpha_0:\n",
    "         sigma=0.5*(1.0+cos(pi*(alpha+alpha_0+alpha_s)/delta_s))\n",
    "    else:\n",
    "         sigma=0.0\n",
    "    return float(alpha), float(sigma)\n",
    "    "
   ]
  }
 ],
 "metadata": {
  "kernelspec": {
   "display_name": "Python 3",
   "language": "python",
   "name": "python3"
  },
  "language_info": {
   "codemirror_mode": {
    "name": "ipython",
    "version": 3
   },
   "file_extension": ".py",
   "mimetype": "text/x-python",
   "name": "python",
   "nbconvert_exporter": "python",
   "pygments_lexer": "ipython3",
   "version": "3.8.8"
  }
 },
 "nbformat": 4,
 "nbformat_minor": 4
}
