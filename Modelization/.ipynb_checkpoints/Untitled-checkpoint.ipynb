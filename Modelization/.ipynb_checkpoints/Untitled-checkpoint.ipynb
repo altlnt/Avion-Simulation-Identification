{
 "cells": [
  {
   "cell_type": "code",
   "execution_count": 1,
   "id": "71d32438",
   "metadata": {},
   "outputs": [],
   "source": [
    "from pylab import *\n",
    "from sympy import *\n",
    "from sympy.solvers import solve\n",
    "from sympy import vector\n",
    "import numpy as np \n",
    "import transforms3d as tf3d\n",
    "from collections import OrderedDict\n",
    "\n",
    "init_printing()"
   ]
  },
  {
   "cell_type": "code",
   "execution_count": 11,
   "id": "7ad6c722",
   "metadata": {},
   "outputs": [
    {
     "name": "stderr",
     "output_type": "stream",
     "text": [
      "/home/mehdi/anaconda3/lib/python3.8/site-packages/sympy/vector/deloperator.py:14: SymPyDeprecationWarning: \n",
      "\n",
      "delop operator inside coordinate system has been deprecated since\n",
      "SymPy 1.1. Use it as instance Del class instead. See\n",
      "https://github.com/sympy/sympy/issues/12866 for more info.\n",
      "\n",
      "  SymPyDeprecationWarning(\n"
     ]
    }
   ],
   "source": [
    "m00, m01, m02, m10, m11, m12, m20, m21, m22 = symbols('m_{00}, m_{01}, m_{02}, m_{10}, m_{11}, m_{12}, m_{20}, m_{21}, m_{22}', real=True)\n",
    "M        = Matrix([[m00,m01,m02], [m10,m11, m12], [m20, m21, m22]])      \n",
    "y_pred1, y_pred2, y_pred3 = symbols('y_pred_1, y_pred_2, y_pred_3', real=True)\n",
    "y_pred     = Matrix([y_pred1, y_pred2, y_pred3])  \n",
    "Y1, Y2, Y3 = symbols('Y_1, Y_2, Y_3', real=True)\n",
    "Y     = Matrix([Y1, Y2, Y3])\n",
    "\n",
    "theta = Matrix([[Symbol('theta_%i'%i)] for i in range(6)])\n",
    "nabla=vector.Del(theta)"
   ]
  },
  {
   "cell_type": "code",
   "execution_count": 12,
   "id": "77d47ca7",
   "metadata": {},
   "outputs": [
    {
     "data": {
      "image/png": "[encoded data removed]",
      "text/latex": [
       "$\\displaystyle 0$"
      ],
      "text/plain": [
       "0"
      ]
     },
     "execution_count": 12,
     "metadata": {},
     "output_type": "execute_result"
    }
   ],
   "source": [
    "y_pred.jacobian([i for i in theta.values()])"
   ]
  },
  {
   "cell_type": "code",
   "execution_count": null,
   "id": "66bd3aa4",
   "metadata": {},
   "outputs": [],
   "source": [
    "omega,ct=symbols('\\omega,C_t',real=True)                                      # vitesse de rotation des moteurs, et coefficient de poussé des helices\n",
    "omega"
   ]
  },
  {
   "cell_type": "code",
   "execution_count": null,
   "id": "a439d09e",
   "metadata": {},
   "outputs": [],
   "source": []
  }
 ],
 "metadata": {
  "kernelspec": {
   "display_name": "Python 3",
   "language": "python",
   "name": "python3"
  },
  "language_info": {
   "codemirror_mode": {
    "name": "ipython",
    "version": 3
   },
   "file_extension": ".py",
   "mimetype": "text/x-python",
   "name": "python",
   "nbconvert_exporter": "python",
   "pygments_lexer": "ipython3",
   "version": "3.8.8"
  }
 },
 "nbformat": 4,
 "nbformat_minor": 5
}
