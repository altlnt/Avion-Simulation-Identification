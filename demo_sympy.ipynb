{
 "cells": [
  {
   "cell_type": "code",
   "execution_count": 1,
   "id": "judicial-sensitivity",
   "metadata": {},
   "outputs": [],
   "source": [
    "from sympy import *"
   ]
  },
  {
   "cell_type": "code",
   "execution_count": 2,
   "id": "three-terrace",
   "metadata": {},
   "outputs": [],
   "source": [
    "omega,ct=symbols('omega,C_t',real=True)"
   ]
  },
  {
   "cell_type": "code",
   "execution_count": 3,
   "id": "amateur-height",
   "metadata": {},
   "outputs": [
    {
     "data": {
      "text/latex": [
       "$\\displaystyle \\omega$"
      ],
      "text/plain": [
       "omega"
      ]
     },
     "execution_count": 3,
     "metadata": {},
     "output_type": "execute_result"
    }
   ],
   "source": [
    "omega"
   ]
  },
  {
   "cell_type": "code",
   "execution_count": 4,
   "id": "approved-worthy",
   "metadata": {},
   "outputs": [
    {
     "data": {
      "text/latex": [
       "$\\displaystyle C_{t}$"
      ],
      "text/plain": [
       "C_t"
      ]
     },
     "execution_count": 4,
     "metadata": {},
     "output_type": "execute_result"
    }
   ],
   "source": [
    "ct\n"
   ]
  },
  {
   "cell_type": "code",
   "execution_count": 5,
   "id": "desperate-contribution",
   "metadata": {},
   "outputs": [],
   "source": [
    "T=ct*omega**2"
   ]
  },
  {
   "cell_type": "code",
   "execution_count": 6,
   "id": "subtle-person",
   "metadata": {},
   "outputs": [
    {
     "data": {
      "text/latex": [
       "$\\displaystyle C_{t} \\omega^{2}$"
      ],
      "text/plain": [
       "C_t*omega**2"
      ]
     },
     "execution_count": 6,
     "metadata": {},
     "output_type": "execute_result"
    }
   ],
   "source": [
    "T"
   ]
  },
  {
   "cell_type": "code",
   "execution_count": 9,
   "id": "noted-significance",
   "metadata": {},
   "outputs": [],
   "source": [
    "T_function=lambdify((ct,omega),T)"
   ]
  },
  {
   "cell_type": "code",
   "execution_count": 14,
   "id": "killing-edition",
   "metadata": {},
   "outputs": [],
   "source": [
    "from matplotlib.pyplot import plot\n",
    "from numpy import arange"
   ]
  },
  {
   "cell_type": "code",
   "execution_count": 15,
   "id": "whole-recovery",
   "metadata": {},
   "outputs": [
    {
     "data": {
      "image/png": "[encoded data removed]",
      "text/plain": [
       "<Figure size 432x288 with 1 Axes>"
      ]
     },
     "metadata": {
      "needs_background": "light"
     },
     "output_type": "display_data"
    }
   ],
   "source": [
    "for i in range(4):\n",
    "        plot(arange(10),T_function(i,arange(10)))\n",
    "    "
   ]
  },
  {
   "cell_type": "code",
   "execution_count": null,
   "id": "expensive-engineering",
   "metadata": {},
   "outputs": [],
   "source": []
  }
 ],
 "metadata": {
  "kernelspec": {
   "display_name": "Python 3",
   "language": "python",
   "name": "python3"
  },
  "language_info": {
   "codemirror_mode": {
    "name": "ipython",
    "version": 3
   },
   "file_extension": ".py",
   "mimetype": "text/x-python",
   "name": "python",
   "nbconvert_exporter": "python",
   "pygments_lexer": "ipython3",
   "version": "3.8.5"
  }
 },
 "nbformat": 4,
 "nbformat_minor": 5
}
