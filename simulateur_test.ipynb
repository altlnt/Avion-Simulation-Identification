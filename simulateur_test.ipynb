{
 "cells": [
  {
   "cell_type": "code",
   "execution_count": 1,
   "id": "f6f73744",
   "metadata": {},
   "outputs": [],
   "source": [
    "from pylab import *\n",
    "from sympy import *\n",
    "from sympy.solvers import solve\n",
    "import transforms3d\n",
    "\n",
    "\n",
    "init_printing()"
   ]
  },
  {
   "cell_type": "code",
   "execution_count": null,
   "id": "fb07c5c2",
   "metadata": {},
   "outputs": [],
   "source": []
  },
  {
   "cell_type": "markdown",
   "id": "e177deca",
   "metadata": {},
   "source": [
    "# Initialisation des fonctions lambdifier pour la simulation\n",
    "## Lambdification des calculs de Cd et Cl"
   ]
  },
  {
   "cell_type": "code",
   "execution_count": 2,
   "id": "6081c0a6",
   "metadata": {},
   "outputs": [],
   "source": [
    "def compute_sigma(alpha, alpha_0, alpha_s, delta_s):       #  Comme c'est une fonction avec des conditions, on peut pas la lambdifier\n",
    "    if alpha>=alpha_s+delta_s:\n",
    "         sigma=0.0\n",
    "    elif alpha>=alpha_s:\n",
    "         sigma=0.5*(1.0+cos(pi*(alpha+alpha_0-alpha_s)/delta_s))\n",
    "    elif alpha>=-alpha_s:\n",
    "         sigma=1.0\n",
    "    elif alpha>=-alpha_s-delta_s:\n",
    "         sigma=0.5*(1.0+cos(pi*(alpha+alpha_0+alpha_s)/delta_s))\n",
    "    else:\n",
    "         sigma=0.0\n",
    "    return(sigma)\n",
    "\n",
    "\n",
    "# Initialisation des paramètres pour les équations symbolique\n",
    "CL_1_sa = Symbol('C^{sa}_{L,1}',real=True)             # Coeff rechercher\n",
    "\n",
    "CLsa = Symbol('C_L^{sa}',real=True)\n",
    "CLfp = Symbol('C_L^{fp}',real=True)\n",
    "C_L = Symbol('C_L',real=True)\n",
    "\n",
    "CD_0_sa = Symbol('C^{sa}_{D,0}',real=True)             # Coeff rechercher\n",
    "CD_1_sa = Symbol('C^{sa}_{D,1}',real=True)             # Coeff rechercher\n",
    "CD_0_fp = Symbol('C^{fp}_{D,0}',real=True)             # Coeff rechercher\n",
    "CD_1_fp = Symbol('C^{fp}_{D,1}',real=True)             # Coeff rechercher\n",
    "\n",
    "CDsa = Symbol('C_D^{sa}',real=True)\n",
    "CLfp = Symbol('C_D^{fp}',real=True)\n",
    "C_D = Symbol('C_D',real=True)                       \n",
    "\n",
    "k_0 = Symbol('k_0', real=True)                         # coeff rechercher\n",
    "k_1 = Symbol('k_1', real=True)                         # coeff rechercher\n",
    "k_2 = Symbol('k_2', real=True)                         # coeff rechercher\n",
    "\n",
    "sigma = Symbol('sigma',real=True)                     # Coef de transistion small angle / flat plate\n",
    "\n",
    "delta_0 = Symbol('delta_0',real=True)                 # Angle des ailerons\n",
    "delta_s = Symbol('delta_s', real=True)                # Coeff rechercher : largeur du stall\n",
    "\n",
    "alpha_0 = Symbol('alpha_0',real=True)                 # Coeff rechercher \n",
    "alpha_s = Symbol('alpha_s',real=True)                 # Coeff rechercher\n",
    "alpha = Symbol('alpha',real=True)                     # angle d'attaque\n",
    "\n",
    "# Calcule des fonctions \n",
    "CL_sa = 1/2 * CL_1_sa * sin(2*(alpha + alpha_0))\n",
    "CD_sa = CD_0_sa + CD_1_sa * sin(alpha + alpha_0)*sin(alpha + alpha_0)\n",
    "\n",
    "CL_fp = 1/2 * CD_1_fp * sin(2*(alpha + alpha_0))\n",
    "CD_fp = CD_0_fp + CD_1_fp * sin(alpha + alpha_0)*sin(alpha + alpha_0)\n",
    "\n",
    "C_L = CL_fp + sigma*(CL_sa - CL_fp) - k_2 * sin(delta_0)\n",
    "C_D = CD_fp + sigma*(CD_sa - CD_fp)\n",
    "\n",
    "## Lambdification des fonctions que nous allons utiliser en simulation.\n",
    "CL_function = lambdify((CL_1_sa, CD_1_fp, sigma, alpha, alpha_0, delta_0, k_1, k_2), C_L)          \n",
    "CD_function = lambdify((CD_0_fp, CD_0_sa, CD_1_sa, CD_1_fp, sigma, alpha, alpha_0, k_0), C_D)"
   ]
  },
  {
   "cell_type": "markdown",
   "id": "20be7f65",
   "metadata": {},
   "source": [
    "## Lambdification des caluls des efforts aérodynamiques des ailes et des moteurs : "
   ]
  },
  {
   "cell_type": "code",
   "execution_count": 3,
   "id": "477fdc73",
   "metadata": {},
   "outputs": [
    {
     "name": "stdout",
     "output_type": "stream",
     "text": [
      "simplify wing force OK\n",
      "simplify wing couple OK\n"
     ]
    }
   ],
   "source": [
    "# Paramètres pour les équations symboliques pour les efforts aérodynamiques des ailes et des moteurs\n",
    "B_B       = Matrix([[1,0,0], [0,1,0], [0,0,1]])                              # Base dans le repère body\n",
    "\n",
    "omega1, omega2, omega3 = symbols('\\omega_1, \\omega_2, \\omega_3', real=True)\n",
    "Omega     = Matrix([omega1, omega2, omega3])                                 # Vecteur de rotation\n",
    " \n",
    "r00, r01, r02, r10, r11, r12, r20, r21, r22 = symbols('r_{00}, r_{01}, r_{02}, r_{10}, r_{11}, r_{12}, r_{20}, r_{21}, r_{22}', real=True)\n",
    "R         = Matrix([[r00,r01,r02], [r10,r11, r12], [r20, r21, r22]])          # Matrice de rotation\n",
    "R_eleron         = R * rot_axis1(45*180/np.pi)                   # Matrice de rotation\n",
    "R_eleron2         = R * rot_axis1(-45*180/np.pi)                   # Matrice de rotation\n",
    "\n",
    "Vb1,Vb2,Vb3=symbols('V_{b1} V_{b2} V_{b3}',real=True)\n",
    "v_B        = Matrix([Vb1, Vb2, Vb3])                                          # Vitesse du corps (repère drone)\n",
    "\n",
    "Vw1,Vw2,Vw3=symbols('V_{w1} V_{w2} V_{w3}',real=True)                         # Vitesse du vent dans le repère NED \n",
    "v_W        = Matrix([Vw1, Vw2, Vw3])\n",
    "\n",
    "xcp, ycp, zcp = symbols('x_{cp}, y_{cp}, z_{cp}')\n",
    "X_cp     = Matrix([xcp, ycp, zcp])                                            # Position du centre de poussé d'un corps dans le repère body\n",
    "\n",
    "A         = Symbol('A', real=True)                                            # 0.5 * rho * S \n",
    "\n",
    "VxNED, VyNED , VzNED = symbols('V_{NED_x} V_{NED_y} V_{NED_z}') \n",
    "Air_speed_earth  = Matrix([VxNED, VyNED , VzNED])                             # air speed dans le repère NED\n",
    "\n",
    "VxBody, VyBody, VzBody = symbols('V_{body_x} V_{body_y} V_{body_z}') \n",
    "Air_speed_body   = Matrix([VxBody, VyBody, VzBody])                           # air speed dans le repère body\n",
    "\n",
    "omega,ct=symbols('\\omega,C_t',real=True)                                      # vitesse de rotation des moteurs, et coefficient de poussé des helices\n",
    "Cd, Cl, Ct, Cq=symbols('C_d,C_l,C_t,C_q',real=True)                           # vitesse de rotation des moteurs, et coefficient de poussé des helices\n",
    "\n",
    "motor_axis_in_body_frame = Matrix([1,0,0])                                    # Axe des moteurs, ici placé en mode avion\n",
    "\n",
    "ch = Symbol('c_h')\n",
    "\n",
    "omega_rotor = symbols('\\omega_{rotor}', real=True)                            # Vitesse de rotation des moteurs\n",
    "spinning_sense = symbols('\\epsilon_{spin}', int=True)                         # Sens de rotation d'un moteur [-1 ou 1]\n",
    "\n",
    "frontward_B = B_B[:,0]\n",
    "upward_B    = B_B[:,2]\n",
    "crossward_B = B_B[:,1]\n",
    "\n",
    "def GenDirectForceWing(Omega, cp, vB, vW, R, crossward_Body):\n",
    "\n",
    "    Air_speed_earth = vB - vW \n",
    "    Air_speed_body  = (R.T* Air_speed_earth) - cp.cross(Omega)\n",
    "    VelinLDPlane    = Air_speed_body - Air_speed_body.dot(crossward_Body.T) * crossward_Body\n",
    "    \n",
    "    dragDirection = -VelinLDPlane / VelinLDPlane.norm()  #if VelinLDPlane_norm > VelLim else Matrix([0,0,0])\n",
    "    liftDirection = crossward_Body.cross(dragDirection) #if crossward_NED.norm() > VelLim else Matrix([0,0,0])\n",
    "\n",
    "    return VelinLDPlane, dragDirection, liftDirection\n",
    "\n",
    "def GenForceWing(A, VelinLDPlane, dragDirection, liftDirection, Cd, Cl, cp):\n",
    "    D = A * VelinLDPlane.norm()**2 * dragDirection * Cd\n",
    "    L = A * VelinLDPlane.norm()**2 * liftDirection * Cl\n",
    "\n",
    "    F_wing = L+D \n",
    "    Torque_wing =  cp.cross(F_wing)\n",
    "\n",
    "    return F_wing, Torque_wing\n",
    "\n",
    "def Generate_Sum_Force_wing(A_list, Omega, cp_list, R_list, vB, vW, crossward_body):\n",
    "    p = 0\n",
    "    Sum_Force_Wing = Matrix([0,0,0])\n",
    "    Sum_Torque_Wing =  Matrix([0,0,0])\n",
    "    for i in cp_list:\n",
    "        VelinLDPlane, dragDirection, liftDirection = GenDirectForceWing(Omega, i, vB, vW, R_list[p], crossward_body)\n",
    "        F_wing, Torque_wing =  GenForceWing(A_list[p], VelinLDPlane, dragDirection, liftDirection, Cd, Cl, i)\n",
    "        \n",
    "        Sum_Force_Wing  = Sum_Force_Wing + F_wing\n",
    "        Sum_Torque_Wing = Sum_Torque_Wing + Torque_wing\n",
    "        p+=1\n",
    "\n",
    "    return Sum_Force_Wing, Sum_Torque_Wing\n",
    "\n",
    "def GenForceMoteur(Omega, ct, cq, omega_rotor, cp, vB, vW, ch, R, motor_axis_in_body_frame, spinning_sense):\n",
    "    ## Cette fonction calcule les effort produit par un rotor sur le drone en fonction de son sens de rotation et de sa localisation, les efforts sont donnés\n",
    "    ## dans le repère body. l'axe des moteur est placé suivant l'axe x du drone (mode avion seulement)\n",
    "    Air_speed_earth = vB - vW\n",
    "    air_speed_in_rotor_frame = (R.T* Air_speed_earth) - cp.cross(Omega)\n",
    "    Axial_speed = air_speed_in_rotor_frame.dot(motor_axis_in_body_frame)\n",
    "    lat_speed = air_speed_in_rotor_frame - (Axial_speed * (motor_axis_in_body_frame))\n",
    "        \n",
    "    T = ct*omega_rotor**2\n",
    "    H = ch * omega_rotor\n",
    "    \n",
    "    T_vec = T * motor_axis_in_body_frame - H * lat_speed\n",
    "    \n",
    "    torque = - omega_rotor * cq * lat_speed\n",
    "    torque = - spinning_sense * cq * T * motor_axis_in_body_frame \n",
    "    torque_at_body_center = torque + cp.cross(T_vec.T)\n",
    "        \n",
    "    return T_vec, torque_at_body_center\n",
    "\n",
    "def Generate_Sum_Force_Moteur(Omega, ct, cq, omega_rotor, cp_list, vB, vW, ch, R, motor_axis_in_body_frame_list, spinning_sense_list):\n",
    "    p = 0\n",
    "    Sum_Force_Rotor = Matrix([0,0,0])\n",
    "    Sum_Torque_Rotor =  Matrix([0,0,0])\n",
    "    for cp in cp_list:\n",
    "        F_rotor, Q_rotor = GenForceMoteur(Omega, ct, cq, omega_rotor, cp, vB, vW, ch, R, motor_axis_in_body_frame_list, spinning_sense_list[p])        \n",
    "        Sum_Force_Rotor  = Sum_Force_Rotor + F_rotor\n",
    "        Sum_Torque_Rotor = Sum_Torque_Rotor + Q_rotor\n",
    "        p+=1\n",
    "\n",
    "    return Sum_Force_Rotor, Sum_Torque_Rotor\n",
    "\n",
    "# Initilisation des paramètres pour la génération des équations des ailes \n",
    "cp_list = [Matrix([0,0.45,0]), Matrix([0,-0.45,0]), Matrix([-0.5,0.15,0]), Matrix([-0.5,-0.15,0]), Matrix([0,0,0])]\n",
    "A_list = [0.4* 1.292 * 0.5,0.4* 1.292 * 0.5,0.1* 1.292 * 0.5,0.1* 1.292 * 0.5,0.5* 1.292 * 0.5] \n",
    "R_list = [R, R, R_eleron, R_eleron2, R]\n",
    "\n",
    "# Initialisation pour les équations des rotors\n",
    "cp_list_rotor = [Matrix([0.2,0.45,0]), Matrix([0.2,-0.45,0]), Matrix([-0.2,0.45,0]), Matrix([-0.2,-0.45,0])]\n",
    "spinning_sense_list = [1,-1,1,-1]\n",
    "\n",
    "# Génération des équations : \n",
    "Sum_F_wing, Sum_Q_wing = Generate_Sum_Force_wing(A_list, Omega, cp_list, R_list, v_B, v_W, crossward_B)\n",
    "#Sum_F_wing.simplify()\n",
    "print(\"simplify wing force OK\")\n",
    "#Sum_Q_wing.simplify()\n",
    "print(\"simplify wing couple OK\")\n",
    "Sum_F_rotor, Sum_Q_rotor = Generate_Sum_Force_Moteur(Omega, Ct, Cq, omega_rotor, cp_list_rotor, v_B, v_W, ch, R, motor_axis_in_body_frame, spinning_sense_list)\n",
    "Sum_F_rotor.simplify()\n",
    "Sum_Q_rotor.simplify()\n",
    "\n",
    "# Création des équations des efforts pour une aile et un seul rotor \n",
    "VelinLDPlane, dragDirection, liftDirection =  GenDirectForceWing(Omega, X_cp, v_B, v_W, R, crossward_B)\n",
    "Force_wing, Torque_wing = GenForceWing(A, VelinLDPlane, dragDirection, liftDirection, Cd, Cl, X_cp)\n",
    "                                       \n",
    "Force_rotor, Torque_rotor = GenForceMoteur(Omega, Ct, Cq, omega_rotor, X_cp, v_B, v_W,ch, R, motor_axis_in_body_frame, spinning_sense)\n",
    "\n",
    "# Lambdification des fonction\n",
    "Force_wing_function = lambdify((A, Cd, Cl, v_B, v_W, Omega, X_cp, R), Force_wing, 'sympy')\n",
    "Torque_wing_function = lambdify((A, Cd, Cl, v_B, v_W, Omega, X_cp, R), Torque_wing, 'sympy')\n",
    "\n",
    "Force_rotor_function = lambdify((Ct, omega_rotor, v_B, v_W, R, Omega, X_cp), Force_rotor)\n",
    "Torque_rotor_function = lambdify((Cq, Ct, omega_rotor, Omega, R, v_B, v_W, X_cp, spinning_sense), Torque_rotor)\n",
    "\n",
    "## Lambdification des fonctions que nous allons utiliser en simulation \n",
    "# Sommes des efforts des surfaces portantes\n",
    "Sum_F_wing_function = lambdify((Omega, R, v_B, v_W, Cd, Cl), Sum_F_wing, 'sympy')\n",
    "Sum_T_wing_function = lambdify((Omega, R, v_B, v_W, Cd, Cl), Sum_Q_wing, 'sympy')\n",
    "\n",
    "# Somme des efforts des moteurs\n",
    "Sum_F_rotor_function = lambdify((Omega, R, v_B, v_W, Ct, Cq, ch, omega_rotor), Sum_F_rotor, 'numpy')\n",
    "Sum_Q_rotor_function = lambdify((Omega, R, v_B, v_W, Ct, Cq, ch, omega_rotor), Sum_Q_rotor, 'numpy')\n",
    "\n",
    "# Cl, Cd\n",
    "CL_function = lambdify((alpha, sigma, alpha_0, delta_0, CL_1_sa, CD_1_fp,k_1, k_2), C_L)          \n",
    "CD_function = lambdify((alpha, sigma, alpha_0, CD_0_fp, CD_0_sa, CD_1_sa, CD_1_fp, k_0), C_D)"
   ]
  },
  {
   "cell_type": "markdown",
   "id": "025e1574",
   "metadata": {},
   "source": [
    "Test des fonctions"
   ]
  },
  {
   "cell_type": "code",
   "execution_count": 4,
   "id": "c52fcb32",
   "metadata": {},
   "outputs": [],
   "source": [
    "#R_test     = Matrix([[1,0,0],[0,1,0],[0,0,1]])\n",
    "#print(Sum_F_wing_function(Matrix([0,0,0]), R_test, Matrix([1,0,0]), Matrix([0,0,0]), 0.8,0.2))    "
   ]
  },
  {
   "cell_type": "markdown",
   "id": "3861bf07",
   "metadata": {},
   "source": [
    "## Définition de l'angle d'attaque "
   ]
  },
  {
   "cell_type": "code",
   "execution_count": 5,
   "id": "a1897a5d",
   "metadata": {},
   "outputs": [],
   "source": [
    "def compute_alpha(dragDirection, liftDirection, frontward_Body, VelinLDPlane): \n",
    "    calpha= dragDirection.dot(frontward_Body)\n",
    "    absalpha= -acos(calpha)\n",
    "    signalpha = sign(liftDirection.dot(frontward_Body)) \n",
    "    if VelinLDPlane.norm()>1e-7 :\n",
    "        alpha = signalpha*absalpha \n",
    "    else :\n",
    "        alpha=0\n",
    "    if abs(alpha)>0.5*np.pi:\n",
    "        if alpha>0 :alpha=alpha-np.pi \n",
    "        else: alpha=alpha+np.pi\n",
    "    return alpha"
   ]
  },
  {
   "cell_type": "markdown",
   "id": "de0b2080",
   "metadata": {},
   "source": [
    "## Equation de la dynamique "
   ]
  },
  {
   "cell_type": "code",
   "execution_count": 6,
   "id": "7cf2c436",
   "metadata": {},
   "outputs": [],
   "source": [
    "def Dynamique(sum_force_rotor, sum_force_wing, sum_torque_rotor, sum_torque_wing, m, J, Omega):\n",
    "    Accel = (sum_force_rotor + sum_force_wing) / m\n",
    "    OmegaPoint = (sum_torque_rotor + sum_torque_wing - Omega.cross((J * Omega)))\n",
    "    OmegaPoint = Matrix([OmegaPoint[0] / J[0], OmegaPoint[1] / J[4], OmegaPoint[2] / J[8]])\n",
    "    return Accel, OmegaPoint\n",
    "\n"
   ]
  },
  {
   "cell_type": "markdown",
   "id": "1ffcc40f",
   "metadata": {},
   "source": [
    "# Simulation Complète sur un pas de temps"
   ]
  },
  {
   "cell_type": "markdown",
   "id": "e95c3b07",
   "metadata": {},
   "source": [
    "# Initialisation de la simulation!"
   ]
  },
  {
   "cell_type": "code",
   "execution_count": 7,
   "id": "57ac44fe",
   "metadata": {},
   "outputs": [
    {
     "name": "stdout",
     "output_type": "stream",
     "text": [
      "⎡1  0  0⎤\n",
      "⎢       ⎥\n",
      "⎢0  1  0⎥\n",
      "⎢       ⎥\n",
      "⎣0  0  1⎦\n"
     ]
    }
   ],
   "source": [
    "#Initialisation des états \n",
    "X = Matrix([0,0,0])\n",
    "V = Matrix([0,1,0])\n",
    "Accel = Matrix([0,0,0])\n",
    "q = Quaternion(1,0,0,0)                       # norme toujours = 1 \n",
    "Omega = Matrix([0,0,0])\n",
    "OmegaP = Matrix([0,0,0])             # Accélération angulaire\n",
    "omega_rotor = 100      # Vitesse angulaire des rotors\n",
    "delta = 0                            # Angle de control des aileron\n",
    "R = q.to_rotation_matrix()    \n",
    "\n",
    "\n",
    "# Paramètres phyisiques :\n",
    "m = 1.5\n",
    "J = diag(0.19,0.15,0.15)\n",
    "alpha_0 = 0.0\n",
    "alpha_s = 0.3391428111\n",
    "delta_s = 30.0*np.pi/180 \n",
    "v_W = Matrix([0,0,1])\n",
    "\n",
    "Ch = 0.0001\n",
    "Ct = 1e-4\n",
    "\n",
    "# Initialisation des coefs aéro : \n",
    "k1 = 0.5\n",
    "k2 = 0.5\n",
    "k0 = 0.5\n",
    "cd1fp = 3.8\n",
    "cl1fp = cd1fp\n",
    "\n",
    "cl1sa = 5.5\n",
    "cd1sa = 3.03\n",
    "\n",
    "cd0sa = 0.02\n",
    "cd0fp = cd0sa\n",
    "pprint(R)"
   ]
  },
  {
   "cell_type": "code",
   "execution_count": 8,
   "id": "ab7df85a",
   "metadata": {},
   "outputs": [],
   "source": [
    "## Initialisation des différents dictionnaires des valeurs"
   ]
  },
  {
   "cell_type": "code",
   "execution_count": 9,
   "id": "7b33dc80",
   "metadata": {},
   "outputs": [],
   "source": [
    "Dict_etats = {\"position\" : X, \"vitesse\" : V, \"acceleration\" : Accel, \"orientation\" : q, \"vitesse_angulaire\" : Omega, \"accel_angulaire\" : OmegaP}\n",
    "Dict_parametres = {\"masse\": m , \"inertie\": J, \"alpha0\" :alpha_0, \"alpha_stall\" : alpha_s, \"largeur_stall\" : delta_s, \"wind\" : v_W}\n",
    "Dict_variables = {\"cd0sa\" : cd0sa, \"cl1fp\" : cl1fp, \"cd1sa\" : cd1sa, \"cl1sa\" : cl1sa, \"cd1fp\" : cd1fp, \"coeff_drag_shift\":k0, \"coeff_lift_shift\":k1, \"coef_lift_gain\":k2 }\n",
    "Dict_commande = {\"delta\" : delta}"
   ]
  },
  {
   "cell_type": "raw",
   "id": "c924b3a9",
   "metadata": {},
   "source": [
    "# Lambdification des fonction\n",
    "Force_wing_function = lambdify((A, Cd, Cl, v_B, v_W, Omega, X_cp, R), Force_wing, 'sympy')\n",
    "Torque_wing_function = lambdify((A, Cd, Cl, v_B, v_W, Omega, X_cp, R), Torque_wing, 'sympy')\n",
    "\n",
    "Force_rotor_function = lambdify((Ct, omega_rotor, v_B, v_W, R, Omega, X_cp), Force_rotor)\n",
    "Torque_rotor_function = lambdify((Cq, Ct, omega_rotor, Omega, R, v_B, v_W, X_cp, spinning_sense), Torque_rotor)\n",
    "\n",
    "## Lambdification des fonctions que nous allons utiliser en simulation \n",
    "# Sommes des efforts des surfaces portantes\n",
    "Sum_F_wing_function = lambdify((Omega, R, v_B, v_W, Cd, Cl), Sum_F_wing, 'sympy')\n",
    "Sum_T_wing_function = lambdify((Omega, R, v_B, v_W, Cd, Cl), Sum_Q_wing, 'sympy')\n",
    "\n",
    "# Somme des efforts des moteurs\n",
    "Sum_F_rotor_function = lambdify((Omega, R, v_B, v_W, Ct, Cq, ch, omega_rotor), Sum_F_rotor, 'numpy')\n",
    "Sum_Q_rotor_function = lambdify((Omega, R, v_B, v_W, Ct, Cq, ch, omega_rotor), Sum_Q_rotor, 'numpy')\n",
    "\n",
    "# Cl, Cd\n",
    "CL_function = lambdify((alpha, sigma, alpha_0, delta, CL_1_sa, CD_1_fp,k_1, k_2), C_L)          \n",
    "CD_function = lambdify((alpha, sigma, alpha_0, CD_0_fp, CD_0_sa, CD_1_sa, CD_1_fp, k_0), C_D)\n",
    "\n",
    "compute_alpha(dragDirection, liftDirection, frontward_Body, air_speed_earth): \n",
    "compute_sigma(alpha, alpha_0, alpha_s, delta_s):"
   ]
  },
  {
   "cell_type": "code",
   "execution_count": 15,
   "id": "c4ba3b49",
   "metadata": {},
   "outputs": [
    {
     "name": "stdout",
     "output_type": "stream",
     "text": [
      "0.07060524170999984\n"
     ]
    }
   ],
   "source": [
    "dt =0.02\n",
    "from time import *\n",
    "from threading import get_ident\n",
    "N = 100\n",
    "Id = pthread_getcpuclockid(get_ident())\n",
    "\n",
    "moyT =0\n",
    "for i in range(N):\n",
    "\n",
    "    #Initialisation des états \n",
    "    X = Matrix([0,0,0])\n",
    "    V = Matrix([0,1,0])\n",
    "    Accel = Matrix([0,0,0])\n",
    "    q = Quaternion(1,0,0,0)                       # norme toujours = 1 \n",
    "    Omega = Matrix([0,0,0])\n",
    "    OmegaP = Matrix([0,0,0])             # Accélération angulaire\n",
    "    omega_rotor = 100      # Vitesse angulaire des rotors\n",
    "    delta = 0                            # Angle de control des aileron\n",
    "    R = q.to_rotation_matrix()    \n",
    "\n",
    "\n",
    "    # Paramètres phyisiques :\n",
    "    m = 1.5\n",
    "    J = diag(0.19,0.15,0.15)\n",
    "    alpha_0 = 0.0\n",
    "    alpha_s = 0.3391428111\n",
    "    delta_s = 30.0*np.pi/180 \n",
    "    v_W = Matrix([0,0,1])\n",
    "\n",
    "    Ch = 0.0001\n",
    "    Ct = 1e-4\n",
    "\n",
    "    # Initialisation des coefs aéro : \n",
    "    k1 = 0.5\n",
    "    k2 = 0.5\n",
    "    k0 = 0.5\n",
    "    cd1fp = 3.8\n",
    "    cl1fp = cd1fp\n",
    "\n",
    "    cl1sa = 5.5\n",
    "    cd1sa = 3.03\n",
    "\n",
    "    cd0sa = 0.02\n",
    "    cd0fp = cd0sa\n",
    "    t1 = clock_gettime(Id)\n",
    "\n",
    "    VelinLDPlane, dragDirection, liftDirection =  GenDirectForceWing(Omega, X_cp, V, v_W, R, crossward_B)\n",
    "    alpha = compute_alpha(dragDirection, liftDirection, frontward_B, VelinLDPlane)\n",
    "    sigma =  compute_sigma((float(alpha)), alpha_0, alpha_s, delta_s)\n",
    "\n",
    "    Cl = CL_function(float(alpha), float(sigma), alpha_0, delta, cl1sa, cd1fp,k1, k2)\n",
    "    Cd = CD_function(float(alpha), float(sigma), alpha_0, cd0fp, cd0sa, cd1sa, cd1fp, k0)\n",
    "    \n",
    "    Wing_Force = Sum_F_wing_function(Omega, R, V, v_W, Cd, Cl)\n",
    "    Wing_Torque = Sum_T_wing_function(Omega, R, V, v_W, Cd, Cl)\n",
    "    \n",
    "\n",
    "    Rotor_Force = Sum_F_rotor_function(Omega, R, V, v_W, Ct, Cq, Ch, omega_rotor)\n",
    "    Rotor_Torque = Sum_Q_rotor_function(Omega, R, V, v_W, Ct, Cq, Ch, omega_rotor)\n",
    "\n",
    "    Accel_body, OmegaP_body = Dynamique(Rotor_Force, Wing_Force, Rotor_Torque, Wing_Torque, m, J, Omega)\n",
    "    t2 =clock_gettime(Id)\n",
    "\n",
    "    \n",
    "    moyT += t2-t1\n",
    "print(moyT/N)"
   ]
  },
  {
   "cell_type": "markdown",
   "id": "8a9c5858",
   "metadata": {},
   "source": [
    "Acc = R * Accel_body\n",
    "OmegaP = R * OmegaP_body    \n",
    "\n",
    "\n",
    "Omega = Omega + OmegaP*dt\n",
    "V = V + N(Acc)*dt\n",
    "\n",
    "X = X + N(V)*dt\n",
    "\n",
    "pprint(N(X))\n",
    "pprint(N(OmegaP*dt))\n",
    "Dict_etats['acceleration'] = Matrix(N(Acc))\n",
    "Dict_etats['vitesse_angulaire'] = Matrix(N(Omega))\n",
    "Dict_etats = {\"position\" : X, \"vitesse\" : V, \"acceleration\" :  Matrix(N(Acc)), \"orientation\" : q,\\\n",
    "              \"vitesse_angulaire\" : Matrix(N(Omega)), \"accel_angulaire\" : Matrix(N(OmegaP))}\n"
   ]
  },
  {
   "cell_type": "code",
   "execution_count": 11,
   "id": "3d4d882d",
   "metadata": {},
   "outputs": [
    {
     "ename": "TypeError",
     "evalue": "'int' object is not callable",
     "output_type": "error",
     "traceback": [
      "\u001b[0;31m---------------------------------------------------------------------------\u001b[0m",
      "\u001b[0;31mTypeError\u001b[0m                                 Traceback (most recent call last)",
      "\u001b[0;32m<ipython-input-11-523b2d31445a>\u001b[0m in \u001b[0;36m<module>\u001b[0;34m\u001b[0m\n\u001b[0;32m----> 1\u001b[0;31m \u001b[0mN\u001b[0m\u001b[0;34m(\u001b[0m\u001b[0mOmega\u001b[0m\u001b[0;34m)\u001b[0m\u001b[0;34m\u001b[0m\u001b[0;34m\u001b[0m\u001b[0m\n\u001b[0m",
      "\u001b[0;31mTypeError\u001b[0m: 'int' object is not callable"
     ]
    }
   ],
   "source": [
    "N(Omega)"
   ]
  },
  {
   "cell_type": "code",
   "execution_count": null,
   "id": "7b9bcbb7",
   "metadata": {},
   "outputs": [],
   "source": [
    "N(Wing_Torque)"
   ]
  },
  {
   "cell_type": "code",
   "execution_count": null,
   "id": "f83760ce",
   "metadata": {},
   "outputs": [],
   "source": [
    "pprint(Rotor_Force)"
   ]
  },
  {
   "cell_type": "code",
   "execution_count": null,
   "id": "721c0f1a",
   "metadata": {},
   "outputs": [],
   "source": [
    "pprint(Rotor_Torque)"
   ]
  },
  {
   "cell_type": "code",
   "execution_count": null,
   "id": "0d0311f5",
   "metadata": {},
   "outputs": [],
   "source": [
    "N(Accel_body)"
   ]
  },
  {
   "cell_type": "code",
   "execution_count": null,
   "id": "d06adec3",
   "metadata": {},
   "outputs": [],
   "source": [
    "N(OmegaP_body)"
   ]
  },
  {
   "cell_type": "code",
   "execution_count": null,
   "id": "e91f176f",
   "metadata": {},
   "outputs": [],
   "source": [
    " N(Acc)"
   ]
  },
  {
   "cell_type": "code",
   "execution_count": null,
   "id": "729a7584",
   "metadata": {},
   "outputs": [],
   "source": []
  }
 ],
 "metadata": {
  "kernelspec": {
   "display_name": "Python 3",
   "language": "python",
   "name": "python3"
  },
  "language_info": {
   "codemirror_mode": {
    "name": "ipython",
    "version": 3
   },
   "file_extension": ".py",
   "mimetype": "text/x-python",
   "name": "python",
   "nbconvert_exporter": "python",
   "pygments_lexer": "ipython3",
   "version": "3.8.8"
  }
 },
 "nbformat": 4,
 "nbformat_minor": 5
}
