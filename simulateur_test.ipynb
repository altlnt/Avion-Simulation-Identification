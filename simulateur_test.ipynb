{
 "cells": [
  {
   "cell_type": "code",
   "execution_count": 1,
   "id": "5fde7b9d",
   "metadata": {},
   "outputs": [],
   "source": [
    "from pylab import *\n",
    "from sympy import *\n",
    "from sympy.solvers import solve\n",
    "import transforms3d\n",
    "import numpy as np \n",
    "\n",
    "\n",
    "init_printing()"
   ]
  },
  {
   "cell_type": "code",
   "execution_count": null,
   "id": "20c5302d",
   "metadata": {},
   "outputs": [],
   "source": []
  },
  {
   "cell_type": "markdown",
   "id": "1e5c27a5",
   "metadata": {},
   "source": [
    "# Initialisation des fonctions lambdifier pour la simulation\n",
    "## Lambdification des calculs de Cd et Cl"
   ]
  },
  {
   "cell_type": "code",
   "execution_count": 2,
   "id": "3e86655b",
   "metadata": {},
   "outputs": [],
   "source": [
    "# Calcul de l'angle d'attaque et calcul du coefficient sigma qui donne la transition entre le modèle flate plate te small angle\n",
    "def compute_alpha_sigma(dragDirection, liftDirection, frontward_Body, VelinLDPlane, alpha_0, alpha_s, delta_s): \n",
    "    calpha= np.vdot(dragDirection, frontward_Body)\n",
    "    absalpha= -acos(calpha)\n",
    "    signalpha = sign(np.vdot(liftDirection, frontward_Body)) \n",
    "    if np.linalg.norm(VelinLDPlane)>1e-7 :\n",
    "        alpha = signalpha*absalpha \n",
    "    else :\n",
    "        alpha=0\n",
    "    if abs(alpha)>0.5*np.pi:\n",
    "        if alpha>0 :alpha=alpha-np.pi \n",
    "        else: alpha=alpha+np.pi\n",
    "            \n",
    "    if alpha>=alpha_s+delta_s:\n",
    "         sigma=0.0\n",
    "    elif alpha>=alpha_s:\n",
    "         sigma=0.5*(1.0+cos(pi*(alpha+alpha_0-alpha_s)/delta_s))\n",
    "    elif alpha>=-alpha_s:\n",
    "         sigma=1.0\n",
    "    elif alpha>=-alpha_s-delta_s:\n",
    "         sigma=0.5*(1.0+cos(pi*(alpha+alpha_0+alpha_s)/delta_s))\n",
    "    else:\n",
    "         sigma=0.0\n",
    "    return float(alpha), float(sigma)\n",
    "    \n",
    "\n",
    "def compute_sigma(alpha, alpha_0, alpha_s, delta_s):       #  Comme c'est une fonction avec des conditions, on peut pas la lambdifier simplement\n",
    "    if alpha>=alpha_s+delta_s:\n",
    "         sigma=0.0\n",
    "    elif alpha>=alpha_s:\n",
    "         sigma=0.5*(1.0+cos(pi*(alpha+alpha_0-alpha_s)/delta_s))\n",
    "    elif alpha>=-alpha_s:\n",
    "         sigma=1.0\n",
    "    elif alpha>=-alpha_s-delta_s:\n",
    "         sigma=0.5*(1.0+cos(pi*(alpha+alpha_0+alpha_s)/delta_s))\n",
    "    else:\n",
    "         sigma=0.0\n",
    "    return float(sigma)\n",
    "\n",
    "\n",
    "# Initialisation des paramètres pour les équations symbolique\n",
    "CL_1_sa = Symbol('C^{sa}_{L,1}',real=True)             # Coeff rechercher\n",
    "\n",
    "CLsa = Symbol('C_L^{sa}',real=True)\n",
    "CLfp = Symbol('C_L^{fp}',real=True)\n",
    "C_L = Symbol('C_L',real=True)\n",
    "\n",
    "CD_0_sa = Symbol('C^{sa}_{D,0}',real=True)             # Coeff rechercher\n",
    "CD_1_sa = Symbol('C^{sa}_{D,1}',real=True)             # Coeff rechercher\n",
    "CD_0_fp = Symbol('C^{fp}_{D,0}',real=True)             # Coeff rechercher\n",
    "CD_1_fp = Symbol('C^{fp}_{D,1}',real=True)             # Coeff rechercher\n",
    "\n",
    "CDsa = Symbol('C_D^{sa}',real=True)\n",
    "CLfp = Symbol('C_D^{fp}',real=True)\n",
    "C_D = Symbol('C_D',real=True)                       \n",
    "\n",
    "k_0 = Symbol('k_0', real=True)                         # coeff rechercher\n",
    "k_1 = Symbol('k_1', real=True)                         # coeff rechercher\n",
    "k_2 = Symbol('k_2', real=True)                         # coeff rechercher\n",
    "\n",
    "sigma = Symbol('sigma',real=True)                     # Coef de transistion small angle / flat plate\n",
    "\n",
    "delta_0 = Symbol('delta_0',real=True)                 # Angle des ailerons\n",
    "delta_s = Symbol('delta_s', real=True)                # Coeff rechercher : largeur du stall\n",
    "\n",
    "alpha_0 = Symbol('alpha_0',real=True)                 # Coeff rechercher \n",
    "alpha_s = Symbol('alpha_s',real=True)                 # Coeff rechercher\n",
    "alpha = Symbol('alpha',real=True)                     # angle d'attaque\n",
    "\n",
    "# Calcule des fonctions \n",
    "CL_sa = 1/2 * CL_1_sa * sin(2*(alpha + alpha_0))\n",
    "CD_sa = CD_0_sa + CD_1_sa * sin(alpha + alpha_0)*sin(alpha + alpha_0)\n",
    "\n",
    "CL_fp = 1/2 * CD_1_fp * sin(2*(alpha + alpha_0))\n",
    "CD_fp = CD_0_fp + CD_1_fp * sin(alpha + alpha_0)*sin(alpha + alpha_0)\n",
    "\n",
    "C_L = CL_fp + sigma*(CL_sa - CL_fp) - k_2 * sin(delta_0)\n",
    "C_D = CD_fp + sigma*(CD_sa - CD_fp)\n",
    "\n",
    "Coeff = [C_L, C_D]    \n",
    "\n",
    "## Lambdification des fonctions que nous allons utiliser en simulation.\n",
    "CL_function = lambdify((alpha, sigma, alpha_0, delta_0, CL_1_sa, CD_1_fp,k_1, k_2), C_L)          \n",
    "CD_function = lambdify((alpha, sigma, alpha_0, CD_0_fp, CD_0_sa, CD_1_sa, CD_1_fp, k_0), C_D)\n",
    "\n",
    "# Lamdification de la fonction comprenant les deux coefficients aérodynamique, retourne sous la forme [Cl, Cd]\n",
    "Coeff_function = lambdify((alpha, sigma, alpha_0, delta_0, CL_1_sa, CD_1_fp,k_1, k_2, CD_0_fp, CD_0_sa, CD_1_sa, CD_1_fp, k_0), Coeff) "
   ]
  },
  {
   "cell_type": "markdown",
   "id": "33bbf1d5",
   "metadata": {},
   "source": [
    "## Lambdification des caluls des efforts aérodynamiques des ailes et des moteurs : "
   ]
  },
  {
   "cell_type": "code",
   "execution_count": 3,
   "id": "d2211a44",
   "metadata": {},
   "outputs": [],
   "source": [
    "# Paramètres pour les équations symboliques pour les efforts aérodynamiques des ailes et des moteurs\n",
    "B_B       = Matrix([[1,0,0], [0,1,0], [0,0,1]])                              # Base dans le repère body\n",
    "\n",
    "omega1, omega2, omega3 = symbols('\\omega_1, \\omega_2, \\omega_3', real=True)\n",
    "Omega     = Matrix([omega1, omega2, omega3])                                 # Vecteur de rotation\n",
    " \n",
    "m = Symbol('m', real=True)    \n",
    "alpha = Symbol('alpha',real=True)                     # angle d'attaque\n",
    "\n",
    "r00, r01, r02, r10, r11, r12, r20, r21, r22 = symbols('r_{00}, r_{01}, r_{02}, r_{10}, r_{11}, r_{12}, r_{20}, r_{21}, r_{22}', real=True)\n",
    "R         = Matrix([[r00,r01,r02], [r10,r11, r12], [r20, r21, r22]])          # Matrice de rotation\n",
    "\n",
    "Vb1,Vb2,Vb3=symbols('V_{b1} V_{b2} V_{b3}',real=True)\n",
    "v_B        = Matrix([Vb1, Vb2, Vb3])                                          # Vitesse du corps (repère drone)\n",
    "\n",
    "Vw1,Vw2,Vw3=symbols('V_{w1} V_{w2} V_{w3}',real=True)                         # Vitesse du vent dans le repère NED \n",
    "v_W        = Matrix([Vw1, Vw2, Vw3])\n",
    "\n",
    "xcp, ycp, zcp = symbols('x_{cp}, y_{cp}, z_{cp}')\n",
    "X_cp     = Matrix([xcp, ycp, zcp])                                            # Position du centre de poussé d'un corps dans le repère body\n",
    "alpha_0 = Symbol('alpha_0',real=True)                 # Coeff rechercher \n",
    "alpha_s = Symbol('alpha_s',real=True)                 # Coeff rechercher\n",
    "sigma = Symbol('sigma',real=True)                     # Coef de transistion small angle / flat plate\n",
    "\n",
    "delta_0 = Symbol('delta_0',real=True)                 # Angle des ailerons\n",
    "delta_s = Symbol('delta_s', real=True)                # Coeff rechercher : largeur du stall\n",
    "\n",
    "A         = Symbol('A', real=True)                                            # 0.5 * rho * S \n",
    "\n",
    "VxNED, VyNED , VzNED = symbols('V_{NED_x} V_{NED_y} V_{NED_z}') \n",
    "Air_speed_earth  = Matrix([VxNED, VyNED , VzNED])                             # air speed dans le repère NED\n",
    "\n",
    "VxBody, VyBody, VzBody = symbols('V_{body_x} V_{body_y} V_{body_z}') \n",
    "Air_speed_body   = Matrix([VxBody, VyBody, VzBody])                           # air speed dans le repère body\n",
    "\n",
    "omega,ct=symbols('\\omega,C_t',real=True)                                      # vitesse de rotation des moteurs, et coefficient de poussé des helices\n",
    "Cd, Cl, Ct, Cq=symbols('C_d,C_l,C_t,C_q',real=True)                           # vitesse de rotation des moteurs, et coefficient de poussé des helices\n",
    "\n",
    "cl1, cl2, cl3, cl4, cl5 = symbols('cl_1, cl_2, cl_3, cl_4, cl_5', real=True)\n",
    "cd1, cd2, cd3, cd4, cd5 = symbols('cd_1, cd_2, cd_3, cd_4, cd_5', real=True)\n",
    "\n",
    "motor_axis_in_body_frame = Matrix([1,0,0])                                    # Axe des moteurs, ici placé en mode avion\n",
    "\n",
    "ch = Symbol('c_h')\n",
    "\n",
    "omega_rotor = symbols('\\omega_{rotor}', real=True)                            # Vitesse de rotation des moteurs\n",
    "spinning_sense = symbols('\\epsilon_{spin}', int=True)                         # Sens de rotation d'un moteur [-1 ou 1]\n",
    "\n",
    "frontward_B = B_B[:,0]\n",
    "upward_B    = B_B[:,2]\n",
    "crossward_B = B_B[:,1]\n",
    "\n",
    "def GenDirectForceWing(Omega, cp, vB, vW, R, crossward_Body):\n",
    "\n",
    "    Air_speed_earth = vB - vW \n",
    "    Air_speed_body  = (R.T* Air_speed_earth) - cp.cross(Omega)\n",
    "    VelinLDPlane    = Air_speed_body - Air_speed_body.dot(crossward_Body.T) * crossward_Body\n",
    "    \n",
    "    dragDirection = -VelinLDPlane / VelinLDPlane.norm()  #if VelinLDPlane_norm > VelLim else Matrix([0,0,0])\n",
    "    liftDirection = crossward_Body.cross(dragDirection) #if crossward_NED.norm() > VelLim else Matrix([0,0,0])\n",
    "\n",
    "    return VelinLDPlane, dragDirection, liftDirection\n",
    "\n",
    "def GenForceWing(A, VelinLDPlane, dragDirection, liftDirection, Cd, Cl, cp):\n",
    "    D = A * VelinLDPlane.norm()**2 * dragDirection * Cd\n",
    "    L = A * VelinLDPlane.norm()**2 * liftDirection * Cl\n",
    "\n",
    "    F_wing = L+D \n",
    "    Torque_wing =  cp.cross(F_wing)\n",
    "\n",
    "    return F_wing, Torque_wing\n",
    "\n",
    "def Generate_Sum_Force_wing(A_list, Omega, cp_list, R_list, vB, vW,  Cd_list, Cl_list, crossward_body):\n",
    "    p = 0\n",
    "    Sum_Force_Wing = Matrix([0,0,0])\n",
    "    Sum_Torque_Wing =  Matrix([0,0,0])\n",
    "    for i in cp_list:\n",
    "        VelinLDPlane, dragDirection, liftDirection= GenDirectForceWing(Omega, i, vB, vW, R_list[p], crossward_body)\n",
    "        F_wing, Torque_wing =  GenForceWing(A_list[p], VelinLDPlane, dragDirection, liftDirection, Cd_list[p], Cl_list[p], i)\n",
    "        \n",
    "        Sum_Force_Wing  = Sum_Force_Wing + F_wing\n",
    "        Sum_Torque_Wing = Sum_Torque_Wing + Torque_wing\n",
    "        p+=1\n",
    "\n",
    "    return Sum_Force_Wing, Sum_Torque_Wing\n",
    "\n",
    "def GenForceMoteur(Omega, ct, cq, omega_rotor, cp, vB, vW, ch, R, motor_axis_in_body_frame, spinning_sense):\n",
    "    ## Cette fonction calcule les effort produit par un rotor sur le drone en fonction de son sens de rotation et de sa localisation, les efforts sont donnés\n",
    "    ## dans le repère body. l'axe des moteur est placé suivant l'axe x du drone (mode avion seulement)\n",
    "    Air_speed_earth = vB - vW\n",
    "    air_speed_in_rotor_frame = (R.T* Air_speed_earth) - cp.cross(Omega)\n",
    "    Axial_speed = air_speed_in_rotor_frame.dot(motor_axis_in_body_frame)\n",
    "    lat_speed = air_speed_in_rotor_frame - (Axial_speed * (motor_axis_in_body_frame))\n",
    "        \n",
    "    T = ct*omega_rotor**2\n",
    "    H = ch * omega_rotor\n",
    "    \n",
    "    T_vec = T * motor_axis_in_body_frame - H * lat_speed\n",
    "    \n",
    "    torque = - omega_rotor * cq * lat_speed\n",
    "    torque = - spinning_sense * cq * T * motor_axis_in_body_frame \n",
    "    torque_at_body_center = torque + cp.cross(T_vec.T)\n",
    "        \n",
    "    return T_vec, torque_at_body_center\n",
    "\n",
    "def Generate_Sum_Force_Moteur(Omega, ct, cq, omega_rotor, cp_list, vB, vW, ch, R, motor_axis_in_body_frame_list, spinning_sense_list):\n",
    "    # Calcul des forces des moteurs sur le drone, génère toutes les forces, ainsi que le couple appliqué au centre de gravité du drone, dans le repère inertiel\n",
    "    p = 0\n",
    "    Sum_Force_Rotor = Matrix([0,0,0])\n",
    "    Sum_Torque_Rotor =  Matrix([0,0,0])\n",
    "    for cp in cp_list:\n",
    "        F_rotor, Q_rotor = GenForceMoteur(Omega, ct, cq, omega_rotor, cp, vB, vW, ch, R, motor_axis_in_body_frame_list, spinning_sense_list[p])        \n",
    "        Sum_Force_Rotor  = Sum_Force_Rotor + F_rotor\n",
    "        Sum_Torque_Rotor = Sum_Torque_Rotor + Q_rotor\n",
    "        p+=1\n",
    "\n",
    "    return Sum_Force_Rotor, Sum_Torque_Rotor\n",
    "\n",
    "# Initilisation des paramètres pour la génération des équations des ailes\n",
    "c45, s45 = np.cos(45*np.pi/180), np.sin(45*np.pi/180)\n",
    "r = np.array(((1,0, 0),(0,c45,-s45),(0,s45, c45)))\n",
    "r_neg     = np.array(((1,0, 0), (0,-c45, -s45),(0,s45, -c45)))\n",
    "R_eleron  = R * r \n",
    "R_eleron2 = R * r_neg  \n",
    "\n",
    "cp_list = [Matrix([0,0.45,0]), Matrix([0,-0.45,0]), Matrix([-0.5,0.15,0]), Matrix([-0.5,-0.15,0]), Matrix([0,0,0])]\n",
    "A_list = [0.4* 1.292 * 0.5, 0.4* 1.292 * 0.5, 0.01* 1.292 * 0.5, 0.01* 1.292 * 0.5, 0.5* 1.292 * 0.5] \n",
    "R_list = [R, R, R_eleron, R_eleron2, R]\n",
    "Cd_list_init = [cd1, cd2, cd3, cd4, cd5]\n",
    "Cl_list_init = [cl1, cl2, cl3, cl4, cl5]\n",
    "\n",
    "# Initialisation pour les équations des rotors\n",
    "cp_list_rotor = [Matrix([0.2,0.45,0]), Matrix([0.2,-0.45,0]), Matrix([-0.2,0.45,0]), Matrix([-0.2,-0.45,0])]\n",
    "spinning_sense_list = [1,-1,-1,1]\n",
    "\n",
    "# Génération des équations : \n",
    "Sum_F_wing, Sum_T_wing = Generate_Sum_Force_wing(A_list, Omega, cp_list, R_list, v_B, v_W, Cd_list_init, Cl_list_init, crossward_B)\n",
    "#Sum_F_wing.simplify()\n",
    "#Sum_T_wing.simplify()\n",
    "\n",
    "Sum_F_rotor, Sum_T_rotor = Generate_Sum_Force_Moteur(Omega, Ct, Cq, omega_rotor, cp_list_rotor, v_B, v_W, ch, R, motor_axis_in_body_frame, spinning_sense_list)\n",
    "Sum_F_rotor.simplify()\n",
    "Sum_T_rotor.simplify()\n",
    "\n",
    "# Création des équations des efforts pour une aile et un seul rotor \n",
    "VelinLDPlane, dragDirection, liftDirection=  GenDirectForceWing(Omega, X_cp, v_B, v_W, R, crossward_B)\n",
    "Force_wing, Torque_wing = GenForceWing(A, VelinLDPlane, dragDirection, liftDirection, Cd, Cl, X_cp)\n",
    "                                       \n",
    "Force_rotor, Torque_rotor = GenForceMoteur(Omega, Ct, Cq, omega_rotor, X_cp, v_B, v_W,ch, R, motor_axis_in_body_frame, spinning_sense)\n",
    "\n",
    "# Equation des forces et des couples complètes \n",
    "Effort_Aero = [Sum_F_rotor + Sum_F_wing, Sum_T_rotor + Sum_T_wing]\n",
    "\n",
    "# Lambdification des fonction\n",
    "Force_wing_function = lambdify((A, Cd, Cl, v_B, v_W, Omega, X_cp, R), Force_wing, 'numpy')\n",
    "Torque_wing_function = lambdify((A, Cd, Cl, v_B, v_W, Omega, X_cp, R), Torque_wing, 'numpy')\n",
    "\n",
    "VelinLDPlane_function = lambdify((Omega, X_cp, v_B, v_W, R), VelinLDPlane, 'numpy')\n",
    "dragDirection_function = lambdify((Omega, X_cp, v_B, v_W, R), dragDirection, 'numpy')\n",
    "liftDirection_function = lambdify((Omega, X_cp, v_B, v_W, R), liftDirection, 'numpy')\n",
    "\n",
    "Force_rotor_function = lambdify((Ct, omega_rotor, v_B, v_W, R, Omega, X_cp), Force_rotor)\n",
    "Torque_rotor_function = lambdify((Cq, Ct, omega_rotor, Omega, R, v_B, v_W, X_cp, spinning_sense), Torque_rotor)\n",
    "\n",
    "## Lambdification des fonctions que nous allons utiliser en simulation \n",
    "# Sommes des efforts des surfaces portantes\n",
    "Sum_F_wing_function = lambdify((Omega, R, v_B, v_W, Cd_list_init, Cl_list_init), Sum_F_wing, 'numpy')\n",
    "Sum_T_wing_function = lambdify((Omega, R, v_B, v_W, Cd_list_init, Cl_list_init), Sum_T_wing, 'numpy')\n",
    "\n",
    "# Somme des efforts des moteurs\n",
    "Sum_F_rotor_function = lambdify((Omega, R, v_B, v_W, Ct, Cq, ch, omega_rotor), Sum_F_rotor, 'numpy')\n",
    "Sum_T_rotor_function = lambdify((Omega, R, v_B, v_W, Ct, Cq, ch, omega_rotor), Sum_T_rotor, 'numpy')\n",
    "\n",
    "# Somme des forces et des couples des ailes et des moteurs :\n",
    "Effort_Aero_function = lambdify((Omega, R, v_B, v_W, Cd_list_init, Cl_list_init, Ct, Cq, ch, omega_rotor), Effort_Aero, 'numpy')\n",
    "\n",
    "# Cl, Cd\n",
    "CL_function = lambdify((alpha, sigma, alpha_0, delta_0, CL_1_sa, CD_1_fp,k_1, k_2), C_L)          \n",
    "CD_function = lambdify((alpha, sigma, alpha_0, CD_0_fp, CD_0_sa, CD_1_sa, CD_1_fp, k_0), C_D)"
   ]
  },
  {
   "cell_type": "markdown",
   "id": "8279d59e",
   "metadata": {},
   "source": [
    "Test des fonctions"
   ]
  },
  {
   "cell_type": "code",
   "execution_count": null,
   "id": "f18cbf39",
   "metadata": {},
   "outputs": [],
   "source": []
  },
  {
   "cell_type": "markdown",
   "id": "ede29704",
   "metadata": {},
   "source": [
    "## Equation de la dynamique "
   ]
  },
  {
   "cell_type": "code",
   "execution_count": 4,
   "id": "7ae3b1a7",
   "metadata": {},
   "outputs": [],
   "source": [
    "Fx_rotor, Fy_rotor, Fz_rotor = symbols('F_{x_rotor}, F_{y_rotor}, F_{z_rotor}')\n",
    "Sum_F_rotor = Matrix([Fx_rotor, Fy_rotor, Fz_rotor])\n",
    "Qx_rotor, Qy_rotor, Qz_rotor = symbols('Q_{x_rotor}, Q_{y_rotor}, Q_{z_rotor}')\n",
    "Sum_T_rotor = Matrix([Qx_rotor, Qy_rotor, Qz_rotor])\n",
    "\n",
    "Fx_wing, Fy_wing, Fz_wing = symbols('F_{x_wing}, F_{y_wing}, F_{z_wing}')\n",
    "Sum_F_wing = Matrix([Fx_wing, Fy_wing, Fz_wing])\n",
    "Qx_wing, Qy_wing, Qz_wing = symbols('Q_{x_wing}, Q_{y_wing}, Q_{z_wing}')\n",
    "Sum_T_wing = Matrix([Qx_wing, Qy_wing, Qz_wing])\n",
    "\n",
    "J11, J22, J33 = symbols('J_{11}, J_{22}, J_{33}', real=True)\n",
    "J             = Matrix([[J11,0,0],[0,J22,0],[0,0,J33]])\n",
    "J             = Matrix([diag(J11, J22, J33)])   \n",
    "\n",
    "def Dynamique(sum_force_rotor, sum_force_wing, sum_torque_rotor, sum_torque_wing, m, J, Omega):\n",
    "    Accel = (sum_force_rotor + sum_force_wing) / m\n",
    "    OmegaPoint = (sum_torque_rotor + sum_torque_wing - Omega.cross((J * Omega)))\n",
    "    OmegaPoint = Matrix([OmegaPoint[0] / J[0], OmegaPoint[1] / J[4], OmegaPoint[2] / J[8]])\n",
    "    return Accel, OmegaPoint"
   ]
  },
  {
   "cell_type": "code",
   "execution_count": 5,
   "id": "a7f0e92c",
   "metadata": {},
   "outputs": [
    {
     "data": {
      "text/latex": [
       "$\\displaystyle \\left[\\begin{matrix}\\frac{F_{x_rotor} + F_{x_wing}}{m}\\\\\\frac{F_{y_rotor} + F_{y_wing}}{m}\\\\\\frac{F_{z_rotor} + F_{z_wing}}{m}\\end{matrix}\\right]$"
      ],
      "text/plain": [
       "⎡F_{x_rotor} + F_{x_wing}⎤\n",
       "⎢────────────────────────⎥\n",
       "⎢           m            ⎥\n",
       "⎢                        ⎥\n",
       "⎢F_{y_rotor} + F_{y_wing}⎥\n",
       "⎢────────────────────────⎥\n",
       "⎢           m            ⎥\n",
       "⎢                        ⎥\n",
       "⎢F_{z_rotor} + F_{z_wing}⎥\n",
       "⎢────────────────────────⎥\n",
       "⎣           m            ⎦"
      ]
     },
     "execution_count": 5,
     "metadata": {},
     "output_type": "execute_result"
    }
   ],
   "source": [
    "Acc, Op = Dynamique(Sum_F_rotor, Sum_F_wing, Sum_T_rotor, Sum_T_wing, m, J, Omega)\n",
    "Acc"
   ]
  },
  {
   "cell_type": "code",
   "execution_count": 6,
   "id": "ef1eb303",
   "metadata": {},
   "outputs": [],
   "source": [
    "Acc_function = lambdify((Sum_F_rotor, Sum_F_wing, m), Acc)\n",
    "OmegaP_function = lambdify((Sum_T_rotor, Sum_T_wing, J11,J22,J33, Omega), Op)"
   ]
  },
  {
   "cell_type": "raw",
   "id": "f191e974",
   "metadata": {},
   "source": []
  },
  {
   "cell_type": "markdown",
   "id": "81b058bf",
   "metadata": {},
   "source": [
    "# Test des fonction en simulation Complète"
   ]
  },
  {
   "cell_type": "code",
   "execution_count": 7,
   "id": "421f7f4a",
   "metadata": {},
   "outputs": [
    {
     "name": "stdout",
     "output_type": "stream",
     "text": [
      "Temps moyen d executuion d un pas de temps =  0.01300764326500004\n"
     ]
    }
   ],
   "source": [
    "## Initialisation des différents dictionnaires des valeurs\n",
    "\n",
    "#Initialisation des états \n",
    "X = np.array([0,0,0.0], dtype=np.float)\n",
    "V = np.array([1.0,0,0], dtype=np.float)\n",
    "Accel = np.array([0,0,0.0], dtype=np.float)\n",
    "q = np.array([1,0,0,0])               # norme toujours = 1\n",
    "Omega = np.array([0.0,0.0,0.0],dtype=np.float)\n",
    "OmegaP = np.array([0,0,0.0], dtype=np.float)             # Accélération angulaire\n",
    "omega_rotor = 30.0     # Vitesse angulaire des rotors en radian par seconde\n",
    "delta = 0.0                            # Angle de control des aileron\n",
    "R = np.eye(3)\n",
    "c45, s45 = np.cos(45*np.pi/180), np.sin(45*np.pi/180)\n",
    "\n",
    "r = np.array(( (1,0, 0), (0,c45, -s45),(0,s45, c45)) , dtype=np.float)\n",
    "r_neg = np.array(((1,0, 0), (0,c45, s45),(0,-s45, c45)), dtype=np.float )\n",
    "R_list = [R, R, R*r, R*r_neg, R]\n",
    "\n",
    "# Paramètres phyisiques :\n",
    "m = 1.5\n",
    "J = diag(0.19,0.15,0.15)\n",
    "alpha_0_list = np.array([3.44*np.pi/180,3.44*np.pi/180,0,0.0,0])\n",
    "alpha_s = 0.3391428111\n",
    "delta_s = 30.0*np.pi/180 \n",
    "v_W = np.array([0,0,0.0], dtype=np.float)\n",
    "g = np.array([0,0,0])\n",
    "\n",
    "cp_list = [np.array([0,0.45,0], dtype=np.float), np.array([0,-0.45,0], dtype=np.float), \\\n",
    "           np.array([-0.5,0.15,0], dtype=np.float), np.array([-0.5,0.15,0], dtype=np.float),np.array([0,0,0], dtype=np.float)]\n",
    "Cl_list= [0,0,0,0,0]\n",
    "Cd_list= [0,0,0,0,0]\n",
    "\n",
    "Ch = 0.0001\n",
    "Ct = 1e-4\n",
    "\n",
    "# Initialisation des coefs aéro : \n",
    "k1 = 0.5\n",
    "k2 = 0.5\n",
    "k0 = 0.5\n",
    "cd1fp = 0.3\n",
    "cl1fp = cd1fp\n",
    "\n",
    "cl1sa = 5.5\n",
    "cd1sa = 0.5\n",
    "\n",
    "cd0sa = 0.02\n",
    "cd0fp = cd0sa\n",
    "x =[]\n",
    "y=[]\n",
    "z=[]\n",
    "\n",
    "frontward_Body=np.transpose(np.array([[1,0,0]]))\n",
    "\n",
    "dt =0.01\n",
    "from time import *\n",
    "from threading import get_ident\n",
    "from scipy.spatial.transform import Rotation as Rotate\n",
    "N = 200\n",
    "Id = pthread_getcpuclockid(get_ident())\n",
    "moyT =0\n",
    "r = Rotate.from_quat(q)\n",
    "\n",
    "R = np.eye(3)\n",
    "angle = np.array([])\n",
    "\n",
    "# Début de la simulation \n",
    "for i in range(N):\n",
    "    t1 = clock_gettime(Id)\n",
    "    p = 0 \n",
    "    Omega = np.array([float(Omega[0]), float(Omega[1]), float(Omega[2])], dtype=np.float)\n",
    "    \n",
    "    for cp in cp_list : \n",
    "        VelinLDPlane   = VelinLDPlane_function(Omega, cp, V, v_W, R_list[p].flatten())\n",
    "        dragDirection  = dragDirection_function(Omega, cp, V, v_W, R_list[p].flatten())\n",
    "        liftDirection  = liftDirection_function(Omega, cp, V, v_W, R_list[p].flatten())\n",
    "        \n",
    "        alpha, sigma = compute_alpha_sigma(dragDirection, liftDirection, frontward_Body, VelinLDPlane, alpha_0_list[p], alpha_s, delta_s)\n",
    "        \n",
    "        Cl_list[p], Cd_list[p] = Coeff_function(alpha, sigma, alpha_0_list[p], delta, cl1sa, cd1fp,k1, k2, cd0fp, cd0sa, cd1sa, cd1fp, k0)\n",
    "        #print(Coeff_function(alpha, sigma, alpha_0_list[p], delta, cl1sa, cd1fp,k1, k2, cd0fp, cd0sa, cd1sa, cd1fp, k0))\n",
    "        p+=1\n",
    "\n",
    "    Wing_Force = Sum_F_wing_function(Omega, R.flatten(), V, v_W, Cd_list, Cl_list)\n",
    "    Wing_Torque = Sum_T_wing_function(Omega, R.flatten(), V, v_W, Cd_list, Cl_list)\n",
    "\n",
    "    Rotor_Force = Sum_F_rotor_function(Omega, R.flatten(), V, v_W, Ct, Cq, Ch, omega_rotor)\n",
    "    Rotor_Torque = Sum_T_rotor_function(Omega, R.flatten(), V, v_W, Ct, Cq, Ch, omega_rotor)\n",
    "    \n",
    "    Effort_Aero = Effort_Aero_function(Omega, R.flatten(), V, v_W, Cd_list, Cl_list, Ct, Cq, Ch, omega_rotor)\n",
    "    Acc_body = Acc_function(Rotor_Force, Wing_Force, m) \n",
    "    OmegaP_body = OmegaP_function(Rotor_Torque, Wing_Torque, J[0,0],J[1,1],J[2,2], Omega)\n",
    "  \n",
    "    Omega = Omega + (OmegaP_body[:,:,0][:,0]*dt)\n",
    "    \n",
    "    V = V + (np.dot(R,np.transpose([Acc_body[:,:,0][:,0]])) + g)[:,0]*dt\n",
    "    X = X + V*dt\n",
    "\n",
    "    R = np.dot(R, Rotate.from_rotvec(Omega*dt).as_matrix())\n",
    "    q = Rotate.from_matrix(R)\n",
    "\n",
    "    angle =np.append(angle,q.as_euler('zyx', degrees=False))\n",
    "    x=np.append(x,X[0])\n",
    "    y=np.append(y,X[1])\n",
    "    z=np.append(z,X[2])\n",
    "    t2 =clock_gettime(Id)\n",
    "    moyT += t2-t1\n",
    "print('Temps moyen d executuion d un pas de temps = ', moyT/(N))"
   ]
  },
  {
   "cell_type": "raw",
   "id": "774c54f2",
   "metadata": {},
   "source": [
    "# Test d'une nouvelle méthode : en regroupant les différentes fonctions lambdifier\n",
    "   # Effort_Aero = Effort_Aero_function(Omega, R.flatten(), V, v_W, Cd_list, Cl_list, Ct, Cq, Ch, omega_rotor)\n",
    "    \n",
    "    Acc_body = Acc_function(Omega, R.flatten(),  V, v_W, Cd_list, Cl_list, Ct, Cq, Ch, omega_rotor, m) \n",
    "    OmegaP_body = OmegaP_function(Omega, R.flatten(),  V, v_W, Cd_list, Cl_list, Ct, Cq, Ch, omega_rotor, J[0,0],J[1,1],J[2,2])\n",
    "    \n",
    "    Omega = Omega + (OmegaP_body[:,0]*dt)\n",
    "    \n",
    "    V = V + (np.dot(R,np.transpose([Acc_body[:,:,0][:,0]])) + g)[:,0]*dt\n",
    "    X = X + V*dt\n",
    "\n",
    "    R = np.dot(R, Rotate.from_rotvec(Omega*dt).as_matrix())\n",
    "    q = Rotate.from_matrix(R)\n",
    "\n",
    "    angle =np.append(angle,q.as_euler('zyx', degrees=False))\n",
    "    x=np.append(x,X[0])\n",
    "    y=np.append(y,X[1])\n",
    "    z=np.append(z,X[2])\n",
    "    t2 =clock_gettime(Id)\n",
    "    moyT += t2-t1\n",
    "print('Temps moyen d executuion d un pas de temps = ', moyT/(N))\n"
   ]
  },
  {
   "cell_type": "code",
   "execution_count": 14,
   "id": "89be1b10",
   "metadata": {},
   "outputs": [
    {
     "data": {
      "image/png": "[encoded data removed]",
      "text/plain": [
       "<Figure size 432x288 with 1 Axes>"
      ]
     },
     "metadata": {
      "needs_background": "light"
     },
     "output_type": "display_data"
    }
   ],
   "source": [
    "ax = plt.axes(projection='3d')\n",
    "ax.plot3D(x,y,z)\n",
    "ax.set_xlabel('x')\n",
    "ax.set_ylabel('y')\n",
    "ax.set_zlabel('z')\n",
    "ax.set_title('Position 3D')\n",
    "plt.show()\n"
   ]
  },
  {
   "cell_type": "code",
   "execution_count": 15,
   "id": "bb6bd8f8",
   "metadata": {},
   "outputs": [
    {
     "data": {
      "image/png": "[encoded data removed]",
      "text/plain": [
       "<Figure size 432x288 with 1 Axes>"
      ]
     },
     "metadata": {
      "needs_background": "light"
     },
     "output_type": "display_data"
    }
   ],
   "source": [
    "angle = np.reshape(angle,(N,3))\n",
    "plt.plot(arange(0,N*dt,dt),angle[:,0], label='z')\n",
    "plt.plot(arange(0,N*dt,dt),angle[:,1], label='y')\n",
    "plt.plot(arange(0,N*dt,dt),angle[:,2], label='x')\n",
    "plt.grid()\n",
    "plt.title('Angle d euler dans le repere zyx en fonction du temps')\n",
    "plt.legend()\n",
    "plt.show()\n"
   ]
  },
  {
   "cell_type": "markdown",
   "id": "e32ec29d",
   "metadata": {},
   "source": [
    "# Exportation des fonctions lambdifier pour la simulation"
   ]
  },
  {
   "cell_type": "code",
   "execution_count": 10,
   "id": "dbc96a65",
   "metadata": {},
   "outputs": [],
   "source": [
    "import dill as dill\n",
    "dill.settings['recurse'] = True\n",
    "\n",
    "Functions = [VelinLDPlane_function, dragDirection_function, liftDirection_function, compute_alpha_sigma, Coeff_function, Effort_Aero_function]\n",
    "dill.dump(Functions, open(\"./fichier_function\", \"wb\"))\n",
    "#dill.dump(Coeff_function, open(\"./fichier_function\", \"wb\"))\n"
   ]
  },
  {
   "cell_type": "code",
   "execution_count": 11,
   "id": "1fddb26e",
   "metadata": {},
   "outputs": [
    {
     "data": {
      "text/plain": [
       "<function _lambdifygenerated(_Dummy_107, _Dummy_108, _Dummy_109, _Dummy_110, _Dummy_111)>"
      ]
     },
     "execution_count": 11,
     "metadata": {},
     "output_type": "execute_result"
    }
   ],
   "source": [
    "Effort_function = dill.load(open('fichier_function','rb'))\n",
    "Cl_Cd_function = dill.load(open('fichier_function','rb'))\n",
    "(Effort_function[0])"
   ]
  },
  {
   "cell_type": "code",
   "execution_count": null,
   "id": "4529942c",
   "metadata": {},
   "outputs": [],
   "source": []
  },
  {
   "cell_type": "code",
   "execution_count": 12,
   "id": "8cda59d5",
   "metadata": {},
   "outputs": [],
   "source": [
    "Dict_etats = {\"position\" : X, \"vitesse\" : V, \"acceleration\" : Accel, \"orientation\" : q, \"vitesse_angulaire\" : Omega, \"accel_angulaire\" : OmegaP}\n",
    "Dict_parametres = {\"masse\": m , \"inertie\": J, \"alpha0\" :alpha_0, \"alpha_stall\" : alpha_s, \"largeur_stall\" : delta_s, \"wind\" : v_W}\n",
    "Dict_variables = {\"cd0sa\" : cd0sa, \"cl1fp\" : cl1fp, \"cd1sa\" : cd1sa, \"cd0fp\" : cd0sa, \"cl1sa\" : cl1sa, \"cd1fp\" : cd1fp, \"coeff_drag_shift\":k0, \"coeff_lift_shift\":k1, \"coef_lift_gain\":k2 }\n",
    "Dict_commande = {\"delta\" : delta}\n"
   ]
  },
  {
   "cell_type": "code",
   "execution_count": 13,
   "id": "359fd8c8",
   "metadata": {},
   "outputs": [
    {
     "name": "stdout",
     "output_type": "stream",
     "text": [
      "<class 'sympy.matrices.dense.MutableDenseMatrix'>\n"
     ]
    }
   ],
   "source": [
    "J = diag(0.19,0.15,0.15)\n",
    "print(type(J))"
   ]
  },
  {
   "cell_type": "code",
   "execution_count": null,
   "id": "34c9195e",
   "metadata": {},
   "outputs": [],
   "source": []
  },
  {
   "cell_type": "code",
   "execution_count": null,
   "id": "6490c12c",
   "metadata": {},
   "outputs": [],
   "source": []
  }
 ],
 "metadata": {
  "kernelspec": {
   "display_name": "Python 3",
   "language": "python",
   "name": "python3"
  },
  "language_info": {
   "codemirror_mode": {
    "name": "ipython",
    "version": 3
   },
   "file_extension": ".py",
   "mimetype": "text/x-python",
   "name": "python",
   "nbconvert_exporter": "python",
   "pygments_lexer": "ipython3",
   "version": "3.8.8"
  }
 },
 "nbformat": 4,
 "nbformat_minor": 5
}
