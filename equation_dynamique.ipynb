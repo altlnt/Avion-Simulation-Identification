{
 "cells": [
  {
   "cell_type": "code",
   "execution_count": 2,
   "metadata": {},
   "outputs": [],
   "source": [
    "from pylab import *\n",
    "from sympy import *\n",
    "from sympy.solvers import solve\n",
    "import transforms3d\n",
    "\n",
    "\n",
    "init_printing()"
   ]
  },
  {
   "cell_type": "markdown",
   "metadata": {},
   "source": [
    "## Initiatlisation des paramèters : "
   ]
  },
  {
   "cell_type": "code",
   "execution_count": 3,
   "metadata": {},
   "outputs": [],
   "source": [
    "m = Symbol('m', real=True)                                                         # Masse du drone\n",
    "\n",
    "omega1, omega2, omega3 = symbols('\\omega_1, \\omega_2, \\omega_3', real=True)\n",
    "Omega         = Matrix([omega1, omega2, omega3])                                    # Vecteur vitesse de rotation\n",
    " \n",
    "Vx, Vy, Vz   = symbols('V_x V_y V_z',real=True)\n",
    "V          = Matrix([Vx, Vy, Vz])                                             # Vitesse du drone dans le repère NED\n",
    "\n",
    "J11, J22, J33 = symbols('J_{11}, J_{22}, J_{33}', real=True)\n",
    "J             = Matrix([[J11,0,0],[0,J22,0],[0,0,J33]])\n",
    "J             = Matrix([diag(J11, J22, J33)])                    # Matrice D'inertie\n",
    "\n",
    "Fx_rotor, Fy_rotor, Fz_rotor   = symbols('F_{x_{rotor}}  F_{y_{rotor}}  F_{z_{rotor}}',real=True)\n",
    "F_rotor = Matrix([Fx_rotor, Fy_rotor, Fz_rotor])\n",
    "\n",
    "Qx_rotor, Qy_rotor, Qz_rotor   = symbols('Q_{x_{rotor}}, Q_{y_{rotor}}, Q_{z_{rotor}}',real=True)\n",
    "Q_rotor = Matrix([Qx_rotor, Qy_rotor, Qz_rotor])\n",
    "\n",
    "Fx_wing, Fy_wing, Fz_wing   = symbols('F_{x_{wing}}, F_{y_{wing}}, F_{z_{wing}}',real=True)\n",
    "F_wing = Matrix([Fx_wing, Fy_wing, Fz_wing])\n",
    "\n",
    "Qx_wing, Qy_wing, Qz_wing   = symbols('Q_{x_{wing}}, Q_{y_{wing}}, Q_{z_{wing}}',real=True)\n",
    "Q_wing = Matrix([Qx_wing, Qy_wing, Qz_wing])"
   ]
  },
  {
   "cell_type": "markdown",
   "metadata": {},
   "source": [
    "## Equation de la dynamique"
   ]
  },
  {
   "cell_type": "code",
   "execution_count": 4,
   "metadata": {},
   "outputs": [],
   "source": [
    "def Dynamique(sum_force_rotor, sum_force_wing, sum_torque_rotor, sum_torque_wing, m, J, Omega):\n",
    "    Accel = (sum_force_rotor + sum_force_wing) / m\n",
    "    OmegaPoint = (sum_torque_rotor + sum_torque_wing - Omega.cross(J * Omega))\n",
    "    OmegaPoint = Matrix([OmegaPoint[0] / J[0], OmegaPoint[1] / J[4], OmegaPoint[2] / J[8]])\n",
    "    return Accel, OmegaPoint"
   ]
  },
  {
   "cell_type": "code",
   "execution_count": 8,
   "metadata": {},
   "outputs": [
    {
     "data": {
      "text/latex": [
       "$\\displaystyle \\left[\\begin{matrix}\\frac{F_{x_{rotor}} + F_{x_{wing}}}{m}\\\\\\frac{F_{y_{rotor}} + F_{y_{wing}}}{m}\\\\\\frac{F_{z_{rotor}} + F_{z_{wing}}}{m}\\end{matrix}\\right]$"
      ],
      "text/plain": [
       "⎡F_{x_{rotor}} + F_{x_{wing}}⎤\n",
       "⎢────────────────────────────⎥\n",
       "⎢             m              ⎥\n",
       "⎢                            ⎥\n",
       "⎢F_{y_{rotor}} + F_{y_{wing}}⎥\n",
       "⎢────────────────────────────⎥\n",
       "⎢             m              ⎥\n",
       "⎢                            ⎥\n",
       "⎢F_{z_{rotor}} + F_{z_{wing}}⎥\n",
       "⎢────────────────────────────⎥\n",
       "⎣             m              ⎦"
      ]
     },
     "execution_count": 8,
     "metadata": {},
     "output_type": "execute_result"
    }
   ],
   "source": [
    "Acc, Op = Dynamique(F_rotor, F_wing, Q_rotor, Q_wing, m, J, Omega)\n",
    "Acc\n",
    "Acc"
   ]
  },
  {
   "cell_type": "code",
   "execution_count": 6,
   "metadata": {},
   "outputs": [
    {
     "data": {
      "text/latex": [
       "$\\displaystyle \\left[\\begin{matrix}\\frac{J_{22} \\omega_{2} \\omega_{3} - J_{33} \\omega_{2} \\omega_{3} + Q_{x_{rotor}} + Q_{x_{wing}}}{J_{11}}\\\\\\frac{- J_{11} \\omega_{1} \\omega_{3} + J_{33} \\omega_{1} \\omega_{3} + Q_{y_{rotor}} + Q_{y_{wing}}}{J_{22}}\\\\\\frac{J_{11} \\omega_{1} \\omega_{2} - J_{22} \\omega_{1} \\omega_{2} + Q_{z_{rotor}} + Q_{z_{wing}}}{J_{33}}\\end{matrix}\\right]$"
      ],
      "text/plain": [
       "⎡J_{22}⋅\\omega₂⋅\\omega₃ - J_{33}⋅\\omega₂⋅\\omega₃ + Q_{x_{rotor}} + Q_{x_{wing}\n",
       "⎢─────────────────────────────────────────────────────────────────────────────\n",
       "⎢                                    J_{11}                                   \n",
       "⎢                                                                             \n",
       "⎢-J_{11}⋅\\omega₁⋅\\omega₃ + J_{33}⋅\\omega₁⋅\\omega₃ + Q_{y_{rotor}} + Q_{y_{wing\n",
       "⎢─────────────────────────────────────────────────────────────────────────────\n",
       "⎢                                     J_{22}                                  \n",
       "⎢                                                                             \n",
       "⎢J_{11}⋅\\omega₁⋅\\omega₂ - J_{22}⋅\\omega₁⋅\\omega₂ + Q_{z_{rotor}} + Q_{z_{wing}\n",
       "⎢─────────────────────────────────────────────────────────────────────────────\n",
       "⎣                                    J_{33}                                   \n",
       "\n",
       "} ⎤\n",
       "─ ⎥\n",
       "  ⎥\n",
       "  ⎥\n",
       "}}⎥\n",
       "──⎥\n",
       "  ⎥\n",
       "  ⎥\n",
       "} ⎥\n",
       "─ ⎥\n",
       "  ⎦"
      ]
     },
     "execution_count": 6,
     "metadata": {},
     "output_type": "execute_result"
    }
   ],
   "source": [
    "Op.simplify()\n",
    "Op"
   ]
  },
  {
   "cell_type": "code",
   "execution_count": 7,
   "metadata": {},
   "outputs": [],
   "source": [
    "Acc_function = lambdify((F_rotor, F_wing, m), Acc)\n",
    "OmegaP_function = lambdify((Q_rotor, Q_wing, J11, J22, J33, Omega), Op)"
   ]
  },
  {
   "cell_type": "code",
   "execution_count": 31,
   "metadata": {},
   "outputs": [
    {
     "name": "stdout",
     "output_type": "stream",
     "text": [
      "le mode lambda function est plus rapide\n",
      "0.00024787263579999073 0.0002481064393000157\n"
     ]
    }
   ],
   "source": [
    "from time import *\n",
    "from threading import get_ident\n",
    "Id = pthread_getcpuclockid(get_ident())\n",
    "T_test_1 =0\n",
    "T_test_2 = 0\n",
    "J11 = 0.19\n",
    "J22 = 0.15\n",
    "J33 = 0.15\n",
    "J=diag(J11,J22,J33)\n",
    "Q_rotor=Matrix([0,0,1])\n",
    "Q_wing=Matrix([0,1,0])\n",
    "F_rotor=Matrix([1,0,0])\n",
    "F_wing=Matrix([1,0,0])\n",
    "P = 10000\n",
    "for i in range(P):\n",
    "    t1_test_1 = clock_gettime(Id)\n",
    "    Acc1 = Acc_function(F_rotor, F_wing, m)\n",
    "    Acc_ang = OmegaP_function(Q_rotor, Q_wing, J11, J22, J33, Omega)\n",
    "    t2_test_1 =clock_gettime(Id)\n",
    "    T_test_1 += t2_test_1 - t1_test_1\n",
    "\n",
    "\n",
    "    t1_test_2 = clock_gettime(Id)\n",
    "    Acc, Op = Dynamique(F_rotor, F_wing, Q_rotor, Q_wing, m, J, Omega)\n",
    "    t2_test_2 = clock_gettime(Id)\n",
    "    T_test_2 += t2_test_2 - t1_test_2\n",
    "\n",
    "if T_test_1 < T_test_2 : print(\"le mode lambda function est plus rapide\")\n",
    "else: print('le mode function classique est plus rapide')\n",
    "print(T_test_1/P, T_test_2/P)"
   ]
  },
  {
   "cell_type": "code",
   "execution_count": null,
   "metadata": {},
   "outputs": [],
   "source": []
  }
 ],
 "metadata": {
  "kernelspec": {
   "display_name": "Python 3",
   "language": "python",
   "name": "python3"
  },
  "language_info": {
   "codemirror_mode": {
    "name": "ipython",
    "version": 3
   },
   "file_extension": ".py",
   "mimetype": "text/x-python",
   "name": "python",
   "nbconvert_exporter": "python",
   "pygments_lexer": "ipython3",
   "version": "3.8.8"
  }
 },
 "nbformat": 4,
 "nbformat_minor": 4
}
