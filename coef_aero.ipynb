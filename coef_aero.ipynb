{
 "cells": [
  {
   "cell_type": "code",
   "execution_count": 4,
   "metadata": {},
   "outputs": [],
   "source": [
    "import numpy as np\n",
    "import matplotlib.pyplot as plt \n",
    "from sympy.solvers import solve\n",
    "from sympy import *\n",
    "import sys"
   ]
  },
  {
   "cell_type": "markdown",
   "metadata": {},
   "source": [
    "# Paramètres "
   ]
  },
  {
   "cell_type": "code",
   "execution_count": 5,
   "metadata": {},
   "outputs": [],
   "source": [
    "CL_1_sa = Symbol('C^{sa}_{L,1}',real=True)             # Coeff rechercher\n",
    "\n",
    "CL_sa = Symbol('C_L^{sa}',real=True)\n",
    "CL_fp = Symbol('C_L^{fp}',real=True)\n",
    "CL = Symbol('C_L',real=True)\n",
    "\n",
    "CD_0_sa = Symbol('C^{sa}_{D,0}',real=True)             # Coeff rechercher\n",
    "CD_1_sa = Symbol('C^{sa}_{D,1}',real=True)             # Coeff rechercher\n",
    "CD_0_fp = Symbol('C^{fp}_{D,0}',real=True)             # Coeff rechercher\n",
    "CD_1_fp = Symbol('C^{fp}_{D,1}',real=True)             # Coeff rechercher\n",
    "\n",
    "CD_sa = Symbol('C_D^{sa}',real=True)\n",
    "CL_fp = Symbol('C_D^{fp}',real=True)\n",
    "CD = Symbol('C_D',real=True)                       \n",
    "\n",
    "sigma = Symbol('sigma',real=True)                   # Coef de transistion small angle / flat plate\n",
    "\n",
    "delta_0 = Symbol('delta_0',real=True)               # Angle des ailerons\n",
    "\n",
    "alpha_0 = Symbol('alpha_0',real=True)               # Coeff rechercher\n",
    "alpha_s = Symbol('alpha_s',real=True)               # Coeff rechercher\n",
    "alpha = Symbol('alpha',real=True)                   # angle d'attaque"
   ]
  },
  {
   "cell_type": "markdown",
   "metadata": {},
   "source": [
    "### Fonction de transition flate plate/small angle --> Sigma "
   ]
  },
  {
   "cell_type": "code",
   "execution_count": 6,
   "metadata": {},
   "outputs": [],
   "source": [
    "def compute_sigma(alpha, alpha_0, alpha_s):\n",
    "    delta_s = alpha_s/2.\n",
    "    if (alpha > - alpha_0): \n",
    "        if (alpha < alpha_0 ):\n",
    "            sigma = 1.0\n",
    "        else:\n",
    "            if (alpha < alpha_0 + delta_s):\n",
    "                sigma = 0.5 * ( 1 + cos ( np.pi * (alpha - alpha_s ) / delta_s ))\n",
    "            else:\n",
    "                sigma = 0\n",
    "    else:\n",
    "        if (alpha > - alpha_0 - delta_s):\n",
    "            sigma = 0.5 * ( 1 + cos ( np.pi * (alpha + alpha_s ) / delta_s ))\n",
    "        else:\n",
    "            sigma = 0\n",
    "    return(sigma)\n"
   ]
  },
  {
   "cell_type": "markdown",
   "metadata": {},
   "source": [
    "### Calcul des coefficient aéro"
   ]
  },
  {
   "cell_type": "code",
   "execution_count": 7,
   "metadata": {},
   "outputs": [],
   "source": [
    "CL_sa = 0.5 * CL_1_sa * sin(2*(alpha-alpha_0))\n",
    "CL_fp = 0.5 * CD_1_fp * sin(2*alpha)\n",
    "CL = CL_fp + sigma*(CL_sa - CL_fp)\n",
    "\n",
    "CD_sa = CD_0_sa + CD_1_sa * sin(alpha-alpha_0)**2\n",
    "CD_fp = CD_0_fp + CD_1_fp * sin(alpha)**2\n",
    "CD = CD_fp + sigma*(CD_sa - CD_fp)"
   ]
  },
  {
   "cell_type": "code",
   "execution_count": 8,
   "metadata": {},
   "outputs": [],
   "source": [
    "CL_sa_function = lambdify((CL_1_sa, alpha, alpha_0), CL_sa)\n",
    "CL_fp_function = lambdify((CD_1_fp, alpha),CL_fp)\n",
    "CL_function = lambdify(( CL_1_sa, CD_1_fp, sigma, alpha, alpha_0), CL)\n",
    "\n",
    "CD_sa_function = lambdify((CD_0_sa, CD_1_sa, alpha, alpha_0), CD_sa)\n",
    "CD_fp_function = lambdify((CD_0_fp, CD_1_fp, alpha), CD_fp)\n",
    "CD_function = lambdify((CD_0_fp, CD_0_sa, CD_1_sa, CD_1_fp, sigma, alpha, alpha_0), CD)"
   ]
  }
 ],
 "metadata": {
  "kernelspec": {
   "display_name": "Python 3",
   "language": "python",
   "name": "python3"
  },
  "language_info": {
   "codemirror_mode": {
    "name": "ipython",
    "version": 3
   },
   "file_extension": ".py",
   "mimetype": "text/x-python",
   "name": "python",
   "nbconvert_exporter": "python",
   "pygments_lexer": "ipython3",
   "version": "3.8.5"
  }
 },
 "nbformat": 4,
 "nbformat_minor": 4
}
