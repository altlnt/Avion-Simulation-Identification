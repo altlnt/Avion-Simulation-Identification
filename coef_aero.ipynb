{
 "cells": [
  {
   "cell_type": "code",
   "execution_count": 1,
   "metadata": {},
   "outputs": [],
   "source": [
    "import numpy as np\n",
    "import matplotlib.pyplot as plt \n",
    "from sympy.solvers import solve\n",
    "from sympy import *\n",
    "import sys\n"
   ]
  },
  {
   "cell_type": "markdown",
   "metadata": {},
   "source": [
    "## Les cellules sous les blocs permettents de vérifier les expressions "
   ]
  },
  {
   "cell_type": "markdown",
   "metadata": {},
   "source": [
    "# Paramètres "
   ]
  },
  {
   "cell_type": "code",
   "execution_count": 2,
   "metadata": {},
   "outputs": [],
   "source": [
    "CL_1_sa = Symbol('C^{sa}_{L,1}',real=True)             # Coeff rechercher\n",
    "\n",
    "CLsa = Symbol('C_L^{sa}',real=True)\n",
    "CLfp = Symbol('C_L^{fp}',real=True)\n",
    "C_L = Symbol('C_L',real=True)\n",
    "\n",
    "CD_0_sa = Symbol('C^{sa}_{D,0}',real=True)             # Coeff rechercher\n",
    "CD_1_sa = Symbol('C^{sa}_{D,1}',real=True)             # Coeff rechercher\n",
    "CD_0_fp = Symbol('C^{fp}_{D,0}',real=True)             # Coeff rechercher\n",
    "CD_1_fp = Symbol('C^{fp}_{D,1}',real=True)             # Coeff rechercher\n",
    "\n",
    "CDsa = Symbol('C_D^{sa}',real=True)\n",
    "CLfp = Symbol('C_D^{fp}',real=True)\n",
    "C_D = Symbol('C_D',real=True)                       \n",
    "\n",
    "k_0 = Symbol('k_0', real=True)                         # coeff rechercher\n",
    "k_1 = Symbol('k_1', real=True)                         # coeff rechercher\n",
    "k_2 = Symbol('k_2', real=True)                         # coeff rechercher\n",
    "\n",
    "sigma = Symbol('sigma',real=True)                     # Coef de transistion small angle / flat plate\n",
    "\n",
    "delta_0 = Symbol('delta_0',real=True)                 # Angle des ailerons\n",
    "delta_s = Symbol('delta_s', real=True)                # Coeff rechercher : largeur du stall\n",
    "\n",
    "alpha_0 = Symbol('alpha_0',real=True)                 # Coeff rechercher \n",
    "alpha_s = Symbol('alpha_s',real=True)                 # Coeff rechercher\n",
    "alpha = Symbol('alpha',real=True)                     # angle d'attaque"
   ]
  },
  {
   "cell_type": "markdown",
   "metadata": {},
   "source": [
    "### Fonction de transition flate plate/small angle --> Sigma "
   ]
  },
  {
   "cell_type": "code",
   "execution_count": 3,
   "metadata": {},
   "outputs": [],
   "source": [
    "def compute_sigma(alpha, alpha_0, alpha_s, delta_s):\n",
    "    if alpha>=alpha_s+delta_s:\n",
    "         sigma=0.0\n",
    "    elif alpha>=alpha_s:\n",
    "         sigma=0.5*(1.0+cos(pi*(alpha+alpha_0-alpha_s)/delta_s))\n",
    "    elif alpha>=-alpha_s:\n",
    "         sigma=1.0\n",
    "    elif alpha>=-alpha_s-delta_s:\n",
    "         sigma=0.5*(1.0+cos(pi*(alpha+alpha_0+alpha_s)/delta_s))\n",
    "    else:\n",
    "         sigma=0.0\n",
    "    return(sigma)\n"
   ]
  },
  {
   "cell_type": "markdown",
   "metadata": {},
   "source": [
    "### Equations aéro pour les coefficients"
   ]
  },
  {
   "cell_type": "code",
   "execution_count": 4,
   "metadata": {},
   "outputs": [],
   "source": [
    "CL_sa = 1/2 * CL_1_sa * sin(2*(alpha + alpha_0))\n",
    "CD_sa = CD_0_sa + CD_1_sa * sin(alpha + alpha_0)*sin(alpha + alpha_0)\n",
    "\n",
    "CL_fp = 1/2 * CD_1_fp * sin(2*(alpha + alpha_0))\n",
    "CD_fp = CD_0_fp + CD_1_fp * sin(alpha + alpha_0)*sin(alpha + alpha_0)\n",
    "\n",
    "C_L = CL_fp + sigma*(CL_sa - CL_fp) - k_2 * sin(delta_0)\n",
    "C_D = CD_fp + sigma*(CD_sa - CD_fp)\n",
    "\n",
    "Coeff = [C_L, C_D]   "
   ]
  },
  {
   "cell_type": "code",
   "execution_count": null,
   "metadata": {},
   "outputs": [],
   "source": []
  },
  {
   "cell_type": "markdown",
   "metadata": {},
   "source": [
    "## Lambdification des fonctions\n",
    "Pour que les fonctions prennent en compte l'angle des ailerons, il faut remplacer l'angle alpha par alpha-k1*delta lors de l'exécution de la fonction, et mettre la valeur de delta dans les paramètres quand il est nécessaire (CLsa, CDsa uniquement)"
   ]
  },
  {
   "cell_type": "code",
   "execution_count": 5,
   "metadata": {},
   "outputs": [],
   "source": [
    "CL_sa_function = lambdify((CL_1_sa, alpha, alpha_0, k_1, delta_0), CL_sa)\n",
    "CD_sa_function = lambdify((CD_0_sa, CD_1_sa, alpha, alpha_0, delta_0, k_0), CD_sa)\n",
    "\n",
    "CL_fp_function = lambdify((CD_1_fp, alpha, alpha_0, k_1, delta_0),CL_fp)\n",
    "CD_fp_function = lambdify((CD_0_fp, CD_1_fp, alpha, alpha_0), CD_fp)\n",
    "\n",
    "## Lambdification des fonctions que nous allons utiliser en simulation.\n",
    "CL_function = lambdify((alpha, sigma, alpha_0, delta_0, CL_1_sa, CD_1_fp,k_1, k_2), C_L)          \n",
    "CD_function = lambdify((alpha, sigma, alpha_0, CD_0_fp, CD_0_sa, CD_1_sa, CD_1_fp, k_0), C_D)\n",
    "\n",
    "# Lamdification de la fonction comprenant les deux coefficients aérodynamique, retourne sous la forme [Cl, Cd]\n",
    "Coeff_function = lambdify((alpha, sigma, alpha_0, delta_0, CL_1_sa, CD_1_fp,k_1, k_2, CD_0_fp, CD_0_sa, CD_1_sa, CD_1_fp, k_0), Coeff) "
   ]
  },
  {
   "cell_type": "code",
   "execution_count": null,
   "metadata": {},
   "outputs": [],
   "source": []
  },
  {
   "cell_type": "markdown",
   "metadata": {},
   "source": [
    "## Valeur de test des fonctions\n",
    " Dans la suite les valeur numériques ont pas le même noms que les valeurs des paramètres (j'ai juste enlevé les tirets pour garder une certaine cohérences sans pour sigma et alpha où j'ai mis juste la premiere lettre).\n",
    " \n",
    "C'est pour garder les symbols intacts et juste remplacer les paramètres plus facilement pour les tester. "
   ]
  },
  {
   "cell_type": "code",
   "execution_count": 6,
   "metadata": {},
   "outputs": [
    {
     "data": {
      "text/plain": [
       "<matplotlib.legend.Legend at 0x7f362e400850>"
      ]
     },
     "execution_count": 6,
     "metadata": {},
     "output_type": "execute_result"
    },
    {
     "data": {
      "image/png": "[encoded data removed]",
      "text/plain": [
       "<Figure size 432x288 with 1 Axes>"
      ]
     },
     "metadata": {
      "needs_background": "light"
     },
     "output_type": "display_data"
    }
   ],
   "source": [
    "CD1fp = 3.8\n",
    "CL1fp = CD1fp\n",
    "\n",
    "CL1sa = 5.5\n",
    "CD1sa = 3.03\n",
    "\n",
    "\n",
    "CD0sa = 0.02\n",
    "CD0fp = CD0sa\n",
    "\n",
    "alpha0 = 0.0\n",
    "alphas = 0.3391428111\n",
    "a = np.arange(-100,100,1)*np.pi/180                                  # angle d'attaque\n",
    "\n",
    "deltas = 30.0*np.pi/180                                            # Largeur du stall \n",
    "delta0 = np.arange(-15.0,15.01, 5) * np.pi/180                      # Angle des ailerons des ailes\n",
    " \n",
    "k1 = 0.5\n",
    "k2 = 0.5\n",
    "k0 = 0.5\n",
    "S = ([])                                                           # sigma \n",
    "for i in a :\n",
    "    S = np.append(S, compute_sigma(i, alpha0, alphas, deltas))     # Calcul de sigma sur toute la plage d'angle\n",
    "    \n",
    "plt.plot(a/np.pi*180 , S, label= r'$\\sigma$')\n",
    "plt.legend()\n"
   ]
  },
  {
   "cell_type": "code",
   "execution_count": null,
   "metadata": {},
   "outputs": [],
   "source": []
  },
  {
   "cell_type": "markdown",
   "metadata": {},
   "source": [
    "# test des fonctions sans compter l'angle delta_0 des ailerons\n",
    "Ces fonctions sont testés pour un delta des ailerons=0, si on veut le changer, changer le paramètres d"
   ]
  },
  {
   "cell_type": "code",
   "execution_count": 7,
   "metadata": {},
   "outputs": [],
   "source": [
    "d= 0 *180/np.pi                 # angle des ailerons en radian"
   ]
  },
  {
   "cell_type": "markdown",
   "metadata": {},
   "source": [
    "## Coeff lift"
   ]
  },
  {
   "cell_type": "code",
   "execution_count": 8,
   "metadata": {},
   "outputs": [
    {
     "data": {
      "text/plain": [
       "<matplotlib.legend.Legend at 0x7f3626310940>"
      ]
     },
     "execution_count": 8,
     "metadata": {},
     "output_type": "execute_result"
    },
    {
     "data": {
      "image/png": "[encoded data removed]",
      "text/plain": [
       "<Figure size 432x288 with 1 Axes>"
      ]
     },
     "metadata": {
      "needs_background": "light"
     },
     "output_type": "display_data"
    }
   ],
   "source": [
    "plt.plot(a , CL_sa_function(CL1sa, a, alpha0, k1, d),label=r'$C_L^{sa}$')  \n",
    "plt.plot(a , CL_fp_function(CD1fp, a, alpha0, k1, d) , label=r'$C_D^{sa}$')     # Ici CD1fp = CLfp dans l'equation j'ai mis CL1fp \n",
    "plt.grid()\n",
    "plt.legend()"
   ]
  },
  {
   "cell_type": "markdown",
   "metadata": {},
   "source": [
    "## Coeff Drag"
   ]
  },
  {
   "cell_type": "code",
   "execution_count": 9,
   "metadata": {},
   "outputs": [
    {
     "data": {
      "text/plain": [
       "<matplotlib.legend.Legend at 0x7f3626214340>"
      ]
     },
     "execution_count": 9,
     "metadata": {},
     "output_type": "execute_result"
    },
    {
     "data": {
      "image/png": "[encoded data removed]",
      "text/plain": [
       "<Figure size 432x288 with 1 Axes>"
      ]
     },
     "metadata": {
      "needs_background": "light"
     },
     "output_type": "display_data"
    }
   ],
   "source": [
    "plt.plot(a,CD_sa_function(CD0sa, CD1sa, a, alpha0, d, k0) ,label=r'$C_D^{sa}$')\n",
    "plt.plot(a , CD_fp_function(CD0fp, CD1fp, a, alpha0) , label=r'$C_D^{sa}$')\n",
    "plt.grid()\n",
    "plt.legend()"
   ]
  },
  {
   "cell_type": "markdown",
   "metadata": {},
   "source": [
    "## Modèle de Cl et Cd complet "
   ]
  },
  {
   "cell_type": "code",
   "execution_count": 10,
   "metadata": {},
   "outputs": [],
   "source": [
    "CL = CL_fp_function(CL1fp, a, alpha0, k1, d) + S * (CL_sa_function(CL1sa, a, alpha0, k1, d)\\\n",
    "                                                    -  CL_fp_function(CL1fp, a, alpha0, 1, d))\n",
    "CD = CD_fp_function(CD0fp, CD1fp, a, alpha0) + S * (CD_sa_function(CD0sa, CD1sa, a, alpha0, d, k0) \\\n",
    "                                                                  -  CD_fp_function(CD0fp, CD1fp, a, alpha0))"
   ]
  },
  {
   "cell_type": "code",
   "execution_count": 11,
   "metadata": {},
   "outputs": [
    {
     "data": {
      "text/plain": [
       "<matplotlib.legend.Legend at 0x7f3626101b50>"
      ]
     },
     "execution_count": 11,
     "metadata": {},
     "output_type": "execute_result"
    },
    {
     "data": {
      "image/png": "[encoded data removed]",
      "text/plain": [
       "<Figure size 432x288 with 1 Axes>"
      ]
     },
     "metadata": {
      "needs_background": "light"
     },
     "output_type": "display_data"
    }
   ],
   "source": [
    "plt.plot(a / np.pi*180 , CL, label=r'$C_L$')\n",
    "plt.plot(a  / np.pi*180, CD, label=r'$C_D$')\n",
    "plt.grid()\n",
    "plt.legend()"
   ]
  },
  {
   "cell_type": "markdown",
   "metadata": {},
   "source": [
    "# Ici on prend en compte l'angle delta_0  des ailerons \n",
    "## Coeff Lift"
   ]
  },
  {
   "cell_type": "code",
   "execution_count": 12,
   "metadata": {},
   "outputs": [
    {
     "ename": "TypeError",
     "evalue": "loop of ufunc does not support argument 0 of type float which has no callable sin method",
     "output_type": "error",
     "traceback": [
      "\u001b[0;31m---------------------------------------------------------------------------\u001b[0m",
      "\u001b[0;31mAttributeError\u001b[0m                            Traceback (most recent call last)",
      "\u001b[0;31mAttributeError\u001b[0m: 'float' object has no attribute 'sin'",
      "\nThe above exception was the direct cause of the following exception:\n",
      "\u001b[0;31mTypeError\u001b[0m                                 Traceback (most recent call last)",
      "\u001b[0;32m<ipython-input-12-918c986c3f5f>\u001b[0m in \u001b[0;36m<module>\u001b[0;34m\u001b[0m\n\u001b[1;32m      4\u001b[0m         \u001b[0mS\u001b[0m \u001b[0;34m=\u001b[0m \u001b[0mnp\u001b[0m\u001b[0;34m.\u001b[0m\u001b[0mappend\u001b[0m\u001b[0;34m(\u001b[0m\u001b[0mS\u001b[0m\u001b[0;34m,\u001b[0m \u001b[0mcompute_sigma\u001b[0m\u001b[0;34m(\u001b[0m\u001b[0mj\u001b[0m\u001b[0;34m-\u001b[0m\u001b[0;34m(\u001b[0m\u001b[0mk1\u001b[0m\u001b[0;34m*\u001b[0m\u001b[0mi\u001b[0m\u001b[0;34m)\u001b[0m\u001b[0;34m,\u001b[0m \u001b[0malpha0\u001b[0m\u001b[0;34m,\u001b[0m \u001b[0malphas\u001b[0m\u001b[0;34m,\u001b[0m \u001b[0mdeltas\u001b[0m\u001b[0;34m)\u001b[0m\u001b[0;34m)\u001b[0m     \u001b[0;31m# Calcul de sigma sur toute la plage d'angle\u001b[0m\u001b[0;34m\u001b[0m\u001b[0;34m\u001b[0m\u001b[0m\n\u001b[1;32m      5\u001b[0m \u001b[0;34m\u001b[0m\u001b[0m\n\u001b[0;32m----> 6\u001b[0;31m     \u001b[0mCL\u001b[0m \u001b[0;34m=\u001b[0m \u001b[0mCL_function\u001b[0m\u001b[0;34m(\u001b[0m\u001b[0mCL1sa\u001b[0m\u001b[0;34m,\u001b[0m \u001b[0mCD1fp\u001b[0m\u001b[0;34m,\u001b[0m \u001b[0mS\u001b[0m\u001b[0;34m,\u001b[0m \u001b[0ma\u001b[0m \u001b[0;34m-\u001b[0m \u001b[0mk1\u001b[0m\u001b[0;34m*\u001b[0m\u001b[0mi\u001b[0m\u001b[0;34m,\u001b[0m \u001b[0malpha0\u001b[0m\u001b[0;34m,\u001b[0m \u001b[0mi\u001b[0m\u001b[0;34m,\u001b[0m \u001b[0mk1\u001b[0m\u001b[0;34m,\u001b[0m \u001b[0mk2\u001b[0m\u001b[0;34m)\u001b[0m\u001b[0;34m\u001b[0m\u001b[0;34m\u001b[0m\u001b[0m\n\u001b[0m\u001b[1;32m      7\u001b[0m     \u001b[0mplt\u001b[0m\u001b[0;34m.\u001b[0m\u001b[0mplot\u001b[0m\u001b[0;34m(\u001b[0m\u001b[0ma\u001b[0m \u001b[0;34m*\u001b[0m\u001b[0;36m180\u001b[0m\u001b[0;34m/\u001b[0m\u001b[0mnp\u001b[0m\u001b[0;34m.\u001b[0m\u001b[0mpi\u001b[0m\u001b[0;34m,\u001b[0m \u001b[0mCL\u001b[0m\u001b[0;34m,\u001b[0m \u001b[0mlabel\u001b[0m\u001b[0;34m=\u001b[0m\u001b[0;34mr\"$\\delta$=\"\u001b[0m\u001b[0;34m+\u001b[0m\u001b[0mstr\u001b[0m\u001b[0;34m(\u001b[0m\u001b[0mround\u001b[0m\u001b[0;34m(\u001b[0m\u001b[0mi\u001b[0m\u001b[0;34m*\u001b[0m\u001b[0;36m180\u001b[0m\u001b[0;34m/\u001b[0m\u001b[0mnp\u001b[0m\u001b[0;34m.\u001b[0m\u001b[0mpi\u001b[0m\u001b[0;34m)\u001b[0m\u001b[0;34m)\u001b[0m\u001b[0;34m)\u001b[0m\u001b[0;34m\u001b[0m\u001b[0;34m\u001b[0m\u001b[0m\n\u001b[1;32m      8\u001b[0m \u001b[0mplt\u001b[0m\u001b[0;34m.\u001b[0m\u001b[0mgrid\u001b[0m\u001b[0;34m(\u001b[0m\u001b[0;34m)\u001b[0m\u001b[0;34m\u001b[0m\u001b[0;34m\u001b[0m\u001b[0m\n",
      "\u001b[0;32m<lambdifygenerated-5>\u001b[0m in \u001b[0;36m_lambdifygenerated\u001b[0;34m(alpha, sigma, alpha_0, delta_0, Dummy_28, Dummy_29, k_1, k_2)\u001b[0m\n\u001b[1;32m      1\u001b[0m \u001b[0;32mdef\u001b[0m \u001b[0m_lambdifygenerated\u001b[0m\u001b[0;34m(\u001b[0m\u001b[0malpha\u001b[0m\u001b[0;34m,\u001b[0m \u001b[0msigma\u001b[0m\u001b[0;34m,\u001b[0m \u001b[0malpha_0\u001b[0m\u001b[0;34m,\u001b[0m \u001b[0mdelta_0\u001b[0m\u001b[0;34m,\u001b[0m \u001b[0mDummy_28\u001b[0m\u001b[0;34m,\u001b[0m \u001b[0mDummy_29\u001b[0m\u001b[0;34m,\u001b[0m \u001b[0mk_1\u001b[0m\u001b[0;34m,\u001b[0m \u001b[0mk_2\u001b[0m\u001b[0;34m)\u001b[0m\u001b[0;34m:\u001b[0m\u001b[0;34m\u001b[0m\u001b[0;34m\u001b[0m\u001b[0m\n\u001b[0;32m----> 2\u001b[0;31m     \u001b[0;32mreturn\u001b[0m \u001b[0;34m(\u001b[0m\u001b[0;36m0.5\u001b[0m\u001b[0;34m*\u001b[0m\u001b[0mDummy_29\u001b[0m\u001b[0;34m*\u001b[0m\u001b[0msin\u001b[0m\u001b[0;34m(\u001b[0m\u001b[0;36m2\u001b[0m\u001b[0;34m*\u001b[0m\u001b[0malpha\u001b[0m \u001b[0;34m+\u001b[0m \u001b[0;36m2\u001b[0m\u001b[0;34m*\u001b[0m\u001b[0malpha_0\u001b[0m\u001b[0;34m)\u001b[0m \u001b[0;34m-\u001b[0m \u001b[0mk_2\u001b[0m\u001b[0;34m*\u001b[0m\u001b[0msin\u001b[0m\u001b[0;34m(\u001b[0m\u001b[0mdelta_0\u001b[0m\u001b[0;34m)\u001b[0m \u001b[0;34m+\u001b[0m \u001b[0msigma\u001b[0m\u001b[0;34m*\u001b[0m\u001b[0;34m(\u001b[0m\u001b[0;36m0.5\u001b[0m\u001b[0;34m*\u001b[0m\u001b[0mDummy_28\u001b[0m\u001b[0;34m*\u001b[0m\u001b[0msin\u001b[0m\u001b[0;34m(\u001b[0m\u001b[0;36m2\u001b[0m\u001b[0;34m*\u001b[0m\u001b[0malpha\u001b[0m \u001b[0;34m+\u001b[0m \u001b[0;36m2\u001b[0m\u001b[0;34m*\u001b[0m\u001b[0malpha_0\u001b[0m\u001b[0;34m)\u001b[0m \u001b[0;34m-\u001b[0m \u001b[0;36m0.5\u001b[0m\u001b[0;34m*\u001b[0m\u001b[0mDummy_29\u001b[0m\u001b[0;34m*\u001b[0m\u001b[0msin\u001b[0m\u001b[0;34m(\u001b[0m\u001b[0;36m2\u001b[0m\u001b[0;34m*\u001b[0m\u001b[0malpha\u001b[0m \u001b[0;34m+\u001b[0m \u001b[0;36m2\u001b[0m\u001b[0;34m*\u001b[0m\u001b[0malpha_0\u001b[0m\u001b[0;34m)\u001b[0m\u001b[0;34m)\u001b[0m\u001b[0;34m)\u001b[0m\u001b[0;34m\u001b[0m\u001b[0;34m\u001b[0m\u001b[0m\n\u001b[0m",
      "\u001b[0;31mTypeError\u001b[0m: loop of ufunc does not support argument 0 of type float which has no callable sin method"
     ]
    }
   ],
   "source": [
    "for i in delta0 :\n",
    "    S = ([])                                                           # sigma \n",
    "    for j in a : \n",
    "        S = np.append(S, compute_sigma(j-(k1*i), alpha0, alphas, deltas))     # Calcul de sigma sur toute la plage d'angle\n",
    "    \n",
    "    CL = CL_function(CL1sa, CD1fp, S, a - k1*i, alpha0, i, k1, k2)\n",
    "    plt.plot(a *180/np.pi, CL, label=r\"$\\delta$=\"+str(round(i*180/np.pi)))\n",
    "plt.grid()\n",
    "plt.legend()"
   ]
  },
  {
   "cell_type": "markdown",
   "metadata": {},
   "source": [
    "## Coef Drag"
   ]
  },
  {
   "cell_type": "code",
   "execution_count": null,
   "metadata": {},
   "outputs": [],
   "source": [
    "for i in delta0 :\n",
    "    S = ([])                                                           # sigma \n",
    "    for j in a :\n",
    "        S = np.append(S, compute_sigma(j-(k1*i), alpha0, alphas, deltas))     # Calcul de sigma sur toute la plage d'angle\n",
    "    CD = CD_function(CD0fp, CD0sa, CD1sa, CD1fp, S, a - k0*i, alpha0, k0)\n",
    "    plt.plot(a *180/np.pi, CD, label=r\"$\\delta$=\"+str(round(i*180/np.pi)))\n",
    "plt.grid()\n",
    "plt.legend()"
   ]
  },
  {
   "cell_type": "code",
   "execution_count": null,
   "metadata": {},
   "outputs": [],
   "source": []
  },
  {
   "cell_type": "code",
   "execution_count": null,
   "metadata": {},
   "outputs": [],
   "source": []
  },
  {
   "cell_type": "code",
   "execution_count": null,
   "metadata": {},
   "outputs": [],
   "source": []
  },
  {
   "cell_type": "code",
   "execution_count": null,
   "metadata": {},
   "outputs": [],
   "source": []
  }
 ],
 "metadata": {
  "kernelspec": {
   "display_name": "Python 3",
   "language": "python",
   "name": "python3"
  },
  "language_info": {
   "codemirror_mode": {
    "name": "ipython",
    "version": 3
   },
   "file_extension": ".py",
   "mimetype": "text/x-python",
   "name": "python",
   "nbconvert_exporter": "python",
   "pygments_lexer": "ipython3",
   "version": "3.8.5"
  }
 },
 "nbformat": 4,
 "nbformat_minor": 4
}
