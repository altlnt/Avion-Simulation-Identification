{
 "cells": [
  {
   "cell_type": "code",
   "execution_count": 1,
   "id": "ceaadb59",
   "metadata": {},
   "outputs": [],
   "source": [
    "import pandas as pd\n",
    "import numpy as np"
   ]
  },
  {
   "cell_type": "code",
   "execution_count": 2,
   "id": "7e30997e",
   "metadata": {},
   "outputs": [],
   "source": [
    "x1,x2,x3=np.arange(100),np.sin(np.ones(100)),np.sin(0.3*np.ones(100)-19)**2"
   ]
  },
  {
   "cell_type": "code",
   "execution_count": 3,
   "id": "3850bd55",
   "metadata": {},
   "outputs": [],
   "source": [
    "y1,y2=np.cos(np.sqrt(x1+x2)),np.sqrt(x3)*x1"
   ]
  },
  {
   "cell_type": "code",
   "execution_count": null,
   "id": "77b9e087",
   "metadata": {},
   "outputs": [],
   "source": [
    "\n",
    "data=np.vstack(x1,x2,x3,y1,y2)\n",
    "\n",
    "\n",
    "df=pd.DataFrame(data=data,columns=('x1','x2','x3','y1','y2'))\n",
    "df.to_csv('log.csv')"
   ]
  }
 ],
 "metadata": {
  "kernelspec": {
   "display_name": "Python 3",
   "language": "python",
   "name": "python3"
  },
  "language_info": {
   "codemirror_mode": {
    "name": "ipython",
    "version": 3
   },
   "file_extension": ".py",
   "mimetype": "text/x-python",
   "name": "python",
   "nbconvert_exporter": "python",
   "pygments_lexer": "ipython3",
   "version": "3.7.10"
  }
 },
 "nbformat": 4,
 "nbformat_minor": 5
}
