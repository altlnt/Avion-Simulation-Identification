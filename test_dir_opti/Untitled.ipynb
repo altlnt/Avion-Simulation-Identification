{
 "cells": [
  {
   "cell_type": "code",
   "execution_count": 1,
   "id": "ceaadb59",
   "metadata": {},
   "outputs": [],
   "source": [
    "import pandas as pd\n",
    "import numpy as np"
   ]
  },
  {
   "cell_type": "code",
   "execution_count": 2,
   "id": "7e30997e",
   "metadata": {},
   "outputs": [],
   "source": [
    "x1,x2,x3=np.arange(100),np.sin(np.ones(100)),np.sin(0.3*np.ones(100)-19)**2"
   ]
  },
  {
   "cell_type": "code",
   "execution_count": 3,
   "id": "3850bd55",
   "metadata": {},
   "outputs": [],
   "source": [
    "p1,p2,p3,p4=2.0,1.0,0.8,0.5\n",
    "\n",
    "y1,y2=p1*np.cos(p2*np.sqrt(x1+x2)),np.sqrt(p3**2*x3)*x1**p4"
   ]
  },
  {
   "cell_type": "code",
   "execution_count": 4,
   "id": "77b9e087",
   "metadata": {},
   "outputs": [],
   "source": [
    "\n",
    "data=np.c_[x1,x2,x3,y1,y2]\n",
    "\n",
    "\n",
    "df=pd.DataFrame(data=data,columns=('x1','x2','x3','y1','y2'))\n",
    "df.to_csv('log.csv')\n",
    "\n"
   ]
  },
  {
   "cell_type": "code",
   "execution_count": 5,
   "id": "26ff65ce-4a3d-421c-b3f2-363cead7f8e1",
   "metadata": {},
   "outputs": [],
   "source": [
    "import json\n",
    "\n",
    "# as requested in comment\n",
    "exDict = {'p1': p1,\"p2\":p2,\"p3\":p3,\"p4\":p4}\n",
    "\n",
    "with open('true_params.txt', 'w') as file:\n",
    "     file.write(json.dumps(exDict))"
   ]
  }
 ],
 "metadata": {
  "kernelspec": {
   "display_name": "Python 3",
   "language": "python",
   "name": "python3"
  },
  "language_info": {
   "codemirror_mode": {
    "name": "ipython",
    "version": 3
   },
   "file_extension": ".py",
   "mimetype": "text/x-python",
   "name": "python",
   "nbconvert_exporter": "python",
   "pygments_lexer": "ipython3",
   "version": "3.7.10"
  }
 },
 "nbformat": 4,
 "nbformat_minor": 5
}
